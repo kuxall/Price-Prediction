{
 "cells": [
  {
   "cell_type": "markdown",
   "id": "a8437c88",
   "metadata": {},
   "source": [
    "# Regression"
   ]
  },
  {
   "cell_type": "code",
   "execution_count": 1,
   "id": "603c48d0",
   "metadata": {},
   "outputs": [],
   "source": [
    "import numpy as np\n",
    "import pandas as pd\n",
    "import matplotlib.pyplot as plt\n",
    "import tensorflow as tf"
   ]
  },
  {
   "cell_type": "code",
   "execution_count": 2,
   "id": "1528e69d",
   "metadata": {},
   "outputs": [],
   "source": [
    "# generating random data having Linear relationships \n",
    "np.random.seed(50)\n",
    "\n",
    "sales = 2*np.random.randn(50) + 50\n",
    "advertising = 20*sales+3+np.random.randint(10,40, size = len(sales))\n",
    "\n",
    "data = np.array([sales, advertising])\n",
    "data = pd.DataFrame(data = data.T, columns = ['sales', 'advertising'])"
   ]
  },
  {
   "cell_type": "code",
   "execution_count": 3,
   "id": "b2bde27c",
   "metadata": {},
   "outputs": [
    {
     "data": {
      "text/html": [
       "<div>\n",
       "<style scoped>\n",
       "    .dataframe tbody tr th:only-of-type {\n",
       "        vertical-align: middle;\n",
       "    }\n",
       "\n",
       "    .dataframe tbody tr th {\n",
       "        vertical-align: top;\n",
       "    }\n",
       "\n",
       "    .dataframe thead th {\n",
       "        text-align: right;\n",
       "    }\n",
       "</style>\n",
       "<table border=\"1\" class=\"dataframe\">\n",
       "  <thead>\n",
       "    <tr style=\"text-align: right;\">\n",
       "      <th></th>\n",
       "      <th>sales</th>\n",
       "      <th>advertising</th>\n",
       "    </tr>\n",
       "  </thead>\n",
       "  <tbody>\n",
       "    <tr>\n",
       "      <th>0</th>\n",
       "      <td>46.879296</td>\n",
       "      <td>961.585916</td>\n",
       "    </tr>\n",
       "    <tr>\n",
       "      <th>1</th>\n",
       "      <td>49.938045</td>\n",
       "      <td>1014.760896</td>\n",
       "    </tr>\n",
       "    <tr>\n",
       "      <th>2</th>\n",
       "      <td>48.758143</td>\n",
       "      <td>994.162863</td>\n",
       "    </tr>\n",
       "    <tr>\n",
       "      <th>3</th>\n",
       "      <td>47.070839</td>\n",
       "      <td>981.416781</td>\n",
       "    </tr>\n",
       "    <tr>\n",
       "      <th>4</th>\n",
       "      <td>52.823892</td>\n",
       "      <td>1087.477845</td>\n",
       "    </tr>\n",
       "    <tr>\n",
       "      <th>5</th>\n",
       "      <td>49.046536</td>\n",
       "      <td>1019.930714</td>\n",
       "    </tr>\n",
       "    <tr>\n",
       "      <th>6</th>\n",
       "      <td>48.439062</td>\n",
       "      <td>1005.781231</td>\n",
       "    </tr>\n",
       "    <tr>\n",
       "      <th>7</th>\n",
       "      <td>52.140535</td>\n",
       "      <td>1083.810709</td>\n",
       "    </tr>\n",
       "    <tr>\n",
       "      <th>8</th>\n",
       "      <td>47.435415</td>\n",
       "      <td>969.708296</td>\n",
       "    </tr>\n",
       "    <tr>\n",
       "      <th>9</th>\n",
       "      <td>47.345042</td>\n",
       "      <td>974.900844</td>\n",
       "    </tr>\n",
       "    <tr>\n",
       "      <th>10</th>\n",
       "      <td>50.252675</td>\n",
       "      <td>1023.053506</td>\n",
       "    </tr>\n",
       "    <tr>\n",
       "      <th>11</th>\n",
       "      <td>51.724387</td>\n",
       "      <td>1073.487749</td>\n",
       "    </tr>\n",
       "    <tr>\n",
       "      <th>12</th>\n",
       "      <td>51.393474</td>\n",
       "      <td>1060.869479</td>\n",
       "    </tr>\n",
       "    <tr>\n",
       "      <th>13</th>\n",
       "      <td>49.330870</td>\n",
       "      <td>1022.617393</td>\n",
       "    </tr>\n",
       "    <tr>\n",
       "      <th>14</th>\n",
       "      <td>48.004948</td>\n",
       "      <td>1002.098957</td>\n",
       "    </tr>\n",
       "    <tr>\n",
       "      <th>15</th>\n",
       "      <td>53.197817</td>\n",
       "      <td>1100.956332</td>\n",
       "    </tr>\n",
       "    <tr>\n",
       "      <th>16</th>\n",
       "      <td>56.628151</td>\n",
       "      <td>1160.563014</td>\n",
       "    </tr>\n",
       "    <tr>\n",
       "      <th>17</th>\n",
       "      <td>51.975541</td>\n",
       "      <td>1056.510818</td>\n",
       "    </tr>\n",
       "    <tr>\n",
       "      <th>18</th>\n",
       "      <td>50.247733</td>\n",
       "      <td>1021.954650</td>\n",
       "    </tr>\n",
       "    <tr>\n",
       "      <th>19</th>\n",
       "      <td>51.485571</td>\n",
       "      <td>1060.711416</td>\n",
       "    </tr>\n",
       "    <tr>\n",
       "      <th>20</th>\n",
       "      <td>49.212088</td>\n",
       "      <td>1012.241766</td>\n",
       "    </tr>\n",
       "    <tr>\n",
       "      <th>21</th>\n",
       "      <td>50.296232</td>\n",
       "      <td>1028.924633</td>\n",
       "    </tr>\n",
       "    <tr>\n",
       "      <th>22</th>\n",
       "      <td>49.175531</td>\n",
       "      <td>1013.510622</td>\n",
       "    </tr>\n",
       "    <tr>\n",
       "      <th>23</th>\n",
       "      <td>49.678570</td>\n",
       "      <td>1032.571398</td>\n",
       "    </tr>\n",
       "    <tr>\n",
       "      <th>24</th>\n",
       "      <td>50.279063</td>\n",
       "      <td>1026.581259</td>\n",
       "    </tr>\n",
       "    <tr>\n",
       "      <th>25</th>\n",
       "      <td>50.570939</td>\n",
       "      <td>1038.418775</td>\n",
       "    </tr>\n",
       "    <tr>\n",
       "      <th>26</th>\n",
       "      <td>49.437476</td>\n",
       "      <td>1012.749520</td>\n",
       "    </tr>\n",
       "    <tr>\n",
       "      <th>27</th>\n",
       "      <td>53.421815</td>\n",
       "      <td>1108.436293</td>\n",
       "    </tr>\n",
       "    <tr>\n",
       "      <th>28</th>\n",
       "      <td>49.700467</td>\n",
       "      <td>1034.009334</td>\n",
       "    </tr>\n",
       "    <tr>\n",
       "      <th>29</th>\n",
       "      <td>51.380613</td>\n",
       "      <td>1067.612269</td>\n",
       "    </tr>\n",
       "    <tr>\n",
       "      <th>30</th>\n",
       "      <td>52.190419</td>\n",
       "      <td>1063.808380</td>\n",
       "    </tr>\n",
       "    <tr>\n",
       "      <th>31</th>\n",
       "      <td>52.676817</td>\n",
       "      <td>1075.536348</td>\n",
       "    </tr>\n",
       "    <tr>\n",
       "      <th>32</th>\n",
       "      <td>47.262037</td>\n",
       "      <td>959.240733</td>\n",
       "    </tr>\n",
       "    <tr>\n",
       "      <th>33</th>\n",
       "      <td>50.972855</td>\n",
       "      <td>1053.457105</td>\n",
       "    </tr>\n",
       "    <tr>\n",
       "      <th>34</th>\n",
       "      <td>51.507043</td>\n",
       "      <td>1051.140867</td>\n",
       "    </tr>\n",
       "    <tr>\n",
       "      <th>35</th>\n",
       "      <td>50.726929</td>\n",
       "      <td>1030.538584</td>\n",
       "    </tr>\n",
       "    <tr>\n",
       "      <th>36</th>\n",
       "      <td>49.370579</td>\n",
       "      <td>1003.411581</td>\n",
       "    </tr>\n",
       "    <tr>\n",
       "      <th>37</th>\n",
       "      <td>52.746562</td>\n",
       "      <td>1088.931247</td>\n",
       "    </tr>\n",
       "    <tr>\n",
       "      <th>38</th>\n",
       "      <td>48.751166</td>\n",
       "      <td>998.023313</td>\n",
       "    </tr>\n",
       "    <tr>\n",
       "      <th>39</th>\n",
       "      <td>50.751508</td>\n",
       "      <td>1031.030160</td>\n",
       "    </tr>\n",
       "    <tr>\n",
       "      <th>40</th>\n",
       "      <td>49.599167</td>\n",
       "      <td>1010.983347</td>\n",
       "    </tr>\n",
       "    <tr>\n",
       "      <th>41</th>\n",
       "      <td>51.486076</td>\n",
       "      <td>1066.721522</td>\n",
       "    </tr>\n",
       "    <tr>\n",
       "      <th>42</th>\n",
       "      <td>51.714724</td>\n",
       "      <td>1062.294478</td>\n",
       "    </tr>\n",
       "    <tr>\n",
       "      <th>43</th>\n",
       "      <td>46.987621</td>\n",
       "      <td>974.752429</td>\n",
       "    </tr>\n",
       "    <tr>\n",
       "      <th>44</th>\n",
       "      <td>46.667296</td>\n",
       "      <td>946.345913</td>\n",
       "    </tr>\n",
       "    <tr>\n",
       "      <th>45</th>\n",
       "      <td>49.562010</td>\n",
       "      <td>1028.240208</td>\n",
       "    </tr>\n",
       "    <tr>\n",
       "      <th>46</th>\n",
       "      <td>49.282283</td>\n",
       "      <td>1016.645663</td>\n",
       "    </tr>\n",
       "    <tr>\n",
       "      <th>47</th>\n",
       "      <td>50.757055</td>\n",
       "      <td>1054.141108</td>\n",
       "    </tr>\n",
       "    <tr>\n",
       "      <th>48</th>\n",
       "      <td>51.368431</td>\n",
       "      <td>1051.368615</td>\n",
       "    </tr>\n",
       "    <tr>\n",
       "      <th>49</th>\n",
       "      <td>47.664288</td>\n",
       "      <td>967.285757</td>\n",
       "    </tr>\n",
       "  </tbody>\n",
       "</table>\n",
       "</div>"
      ],
      "text/plain": [
       "        sales  advertising\n",
       "0   46.879296   961.585916\n",
       "1   49.938045  1014.760896\n",
       "2   48.758143   994.162863\n",
       "3   47.070839   981.416781\n",
       "4   52.823892  1087.477845\n",
       "5   49.046536  1019.930714\n",
       "6   48.439062  1005.781231\n",
       "7   52.140535  1083.810709\n",
       "8   47.435415   969.708296\n",
       "9   47.345042   974.900844\n",
       "10  50.252675  1023.053506\n",
       "11  51.724387  1073.487749\n",
       "12  51.393474  1060.869479\n",
       "13  49.330870  1022.617393\n",
       "14  48.004948  1002.098957\n",
       "15  53.197817  1100.956332\n",
       "16  56.628151  1160.563014\n",
       "17  51.975541  1056.510818\n",
       "18  50.247733  1021.954650\n",
       "19  51.485571  1060.711416\n",
       "20  49.212088  1012.241766\n",
       "21  50.296232  1028.924633\n",
       "22  49.175531  1013.510622\n",
       "23  49.678570  1032.571398\n",
       "24  50.279063  1026.581259\n",
       "25  50.570939  1038.418775\n",
       "26  49.437476  1012.749520\n",
       "27  53.421815  1108.436293\n",
       "28  49.700467  1034.009334\n",
       "29  51.380613  1067.612269\n",
       "30  52.190419  1063.808380\n",
       "31  52.676817  1075.536348\n",
       "32  47.262037   959.240733\n",
       "33  50.972855  1053.457105\n",
       "34  51.507043  1051.140867\n",
       "35  50.726929  1030.538584\n",
       "36  49.370579  1003.411581\n",
       "37  52.746562  1088.931247\n",
       "38  48.751166   998.023313\n",
       "39  50.751508  1031.030160\n",
       "40  49.599167  1010.983347\n",
       "41  51.486076  1066.721522\n",
       "42  51.714724  1062.294478\n",
       "43  46.987621   974.752429\n",
       "44  46.667296   946.345913\n",
       "45  49.562010  1028.240208\n",
       "46  49.282283  1016.645663\n",
       "47  50.757055  1054.141108\n",
       "48  51.368431  1051.368615\n",
       "49  47.664288   967.285757"
      ]
     },
     "execution_count": 3,
     "metadata": {},
     "output_type": "execute_result"
    }
   ],
   "source": [
    "data"
   ]
  },
  {
   "cell_type": "code",
   "execution_count": 4,
   "id": "8844a165",
   "metadata": {},
   "outputs": [
    {
     "data": {
      "text/plain": [
       "<matplotlib.collections.PathCollection at 0x1c7049dbac0>"
      ]
     },
     "execution_count": 4,
     "metadata": {},
     "output_type": "execute_result"
    },
    {
     "data": {
      "image/png": "[encoded data removed]",
      "text/plain": [
       "<Figure size 432x288 with 1 Axes>"
      ]
     },
     "metadata": {
      "needs_background": "light"
     },
     "output_type": "display_data"
    }
   ],
   "source": [
    "plt.scatter(data['sales'], data['advertising'])"
   ]
  },
  {
   "cell_type": "code",
   "execution_count": 5,
   "id": "51e73068",
   "metadata": {},
   "outputs": [],
   "source": [
    "# Calculating the regression coefficients\n",
    "\n",
    "coeff_a = sum(advertising*(sales - np.mean(sales))) / sum((sales-np.mean(sales))**2)\n",
    "coeff_b = np.mean(advertising) - coeff_a * np.mean(sales)"
   ]
  },
  {
   "cell_type": "code",
   "execution_count": 6,
   "id": "7aac5070",
   "metadata": {},
   "outputs": [
    {
     "name": "stdout",
     "output_type": "stream",
     "text": [
      "The regression coefficients are :  20.76275886890265 -10.300055059918577\n"
     ]
    }
   ],
   "source": [
    "print(\"The regression coefficients are : \", coeff_a, coeff_b)"
   ]
  },
  {
   "cell_type": "code",
   "execution_count": 7,
   "id": "987c37b8",
   "metadata": {},
   "outputs": [
    {
     "data": {
      "text/plain": [
       "<matplotlib.legend.Legend at 0x1c704be28e0>"
      ]
     },
     "execution_count": 7,
     "metadata": {},
     "output_type": "execute_result"
    },
    {
     "data": {
      "image/png": "[encoded data removed]",
      "text/plain": [
       "<Figure size 432x288 with 1 Axes>"
      ]
     },
     "metadata": {
      "needs_background": "light"
     },
     "output_type": "display_data"
    }
   ],
   "source": [
    "#predicting the data \n",
    "y_pred = coeff_a * sales + coeff_b\n",
    "plt.plot(sales, y_pred, color = 'red', label = 'Predicting Sales')\n",
    "plt.scatter(data['sales'], data['advertising'], label = 'Training Data')\n",
    "plt.xlabel('sales')\n",
    "plt.ylabel('advertising')\n",
    "plt.legend()"
   ]
  },
  {
   "cell_type": "markdown",
   "id": "899db230",
   "metadata": {},
   "source": [
    "# Predicting House Price using Linear Regression"
   ]
  },
  {
   "cell_type": "code",
   "execution_count": 8,
   "id": "4789164e",
   "metadata": {},
   "outputs": [
    {
     "name": "stdout",
     "output_type": "stream",
     "text": [
      "<class 'pandas.core.frame.DataFrame'>\n",
      "RangeIndex: 489 entries, 0 to 488\n",
      "Data columns (total 4 columns):\n",
      " #   Column   Non-Null Count  Dtype  \n",
      "---  ------   --------------  -----  \n",
      " 0   RM       489 non-null    float64\n",
      " 1   LSTAT    489 non-null    float64\n",
      " 2   PTRATIO  489 non-null    float64\n",
      " 3   MEDV     489 non-null    float64\n",
      "dtypes: float64(4)\n",
      "memory usage: 15.4 KB\n"
     ]
    }
   ],
   "source": [
    "import pandas as pd\n",
    "import numpy as np\n",
    "\n",
    "df = pd.read_csv(\"https://raw.githubusercontent.com/antra0497/Udacity-Predicting-Boston-Housing-Prices/master/housing.csv\")\n",
    "df.info()"
   ]
  },
  {
   "cell_type": "code",
   "execution_count": 9,
   "id": "28d53d57",
   "metadata": {},
   "outputs": [],
   "source": [
    "x = df.drop('MEDV', axis = 1) # define independent predictor set (excluding the dependent variable)\n",
    "y = df['MEDV'] # define the target values (i.e. the dependent variable)"
   ]
  },
  {
   "cell_type": "code",
   "execution_count": 10,
   "id": "94191624",
   "metadata": {},
   "outputs": [
    {
     "name": "stdout",
     "output_type": "stream",
     "text": [
      "(327, 3)\n",
      "(327,)\n",
      "(162, 3)\n",
      "(162,)\n"
     ]
    }
   ],
   "source": [
    "from sklearn.model_selection import train_test_split\n",
    "x_train, x_test, y_train, y_test = train_test_split(x, y, test_size = 0.33, random_state = 5)\n",
    "print(x_train.shape)\n",
    "print(y_train.shape)\n",
    "\n",
    "print(x_test.shape)\n",
    "print(y_test.shape)"
   ]
  },
  {
   "cell_type": "markdown",
   "id": "e9d1238d",
   "metadata": {},
   "source": [
    "# Basic Linear Regression\n",
    "In linear regression we assume that the relationship between the independent variables (X) and the dependent variable (Y) is linear and then go about finding one that minimizes the squared error between the predicted Y and the actual Y.\n",
    "\n",
    "                                                    yi=β0+β1xi+ϵi\n",
    " \n",
    "We now import the LinearRegression method from the sklearn library. Note that the process of creating the model involves the very simple command lm.fit(X,Y). This runs the model and we find the intercept-term,  β0 , and the coefficient  β1  that minimizes the squared errors"
   ]
  },
  {
   "cell_type": "code",
   "execution_count": 11,
   "id": "90bf0e92",
   "metadata": {},
   "outputs": [
    {
     "data": {
      "image/png": "[encoded data removed]",
      "text/plain": [
       "<Figure size 432x288 with 1 Axes>"
      ]
     },
     "metadata": {
      "needs_background": "light"
     },
     "output_type": "display_data"
    }
   ],
   "source": [
    "from sklearn.linear_model import LinearRegression\n",
    "lm = LinearRegression()\n",
    "lm.fit(x_train, y_train)\n",
    "y_pred_train = lm.predict(x_train)\n",
    "y_pred = lm.predict(x_test)\n",
    "\n",
    "import matplotlib.pyplot as plt\n",
    "plt.scatter(y_test, y_pred)\n",
    "plt.xlabel(\"Actual Price : $Y_i$\")\n",
    "plt.ylabel(\"Predicted Price : $\\hat{Y}_i$\")\n",
    "plt.title(\"Predicted Price Vs Actual Price : \")\n",
    "plt.show()"
   ]
  },
  {
   "cell_type": "code",
   "execution_count": 12,
   "id": "5ca06a22",
   "metadata": {},
   "outputs": [
    {
     "name": "stdout",
     "output_type": "stream",
     "text": [
      "Intercept Term :  505133.9949769226\n",
      "Coefficients :  [ 77880.11980519 -11070.7718746  -21000.37109466]\n"
     ]
    }
   ],
   "source": [
    "# Coefficient\n",
    "\n",
    "print(\"Intercept Term : \", lm.intercept_)\n",
    "print(\"Coefficients : \", lm.coef_)"
   ]
  },
  {
   "cell_type": "code",
   "execution_count": 13,
   "id": "455ac57c",
   "metadata": {},
   "outputs": [
    {
     "name": "stdout",
     "output_type": "stream",
     "text": [
      "Mean Squared Error :  7068706653.230068\n",
      "Mean Absolute Error :  64577.672957157796\n",
      "R-Square, Training :  0.6993419964520498\n",
      "R-Square, Test :  0.746591067836508\n"
     ]
    }
   ],
   "source": [
    "from sklearn.metrics import mean_squared_error, mean_absolute_error, r2_score\n",
    "mse = mean_squared_error(y_test, y_pred)\n",
    "print(\"Mean Squared Error : \", mse)\n",
    "mae = mean_absolute_error(y_test, y_pred)\n",
    "print(\"Mean Absolute Error : \", mae)\n",
    "rsq = r2_score(y_train, y_pred_train) # On training data\n",
    "print(\"R-Square, Training : \", rsq)\n",
    "rsq = r2_score(y_test, y_pred) # on test data \n",
    "print(\"R-Square, Test : \", rsq)"
   ]
  },
  {
   "cell_type": "markdown",
   "id": "2b7d81de",
   "metadata": {},
   "source": [
    "\n",
    "# Boston House Price Prediction using Tensorflow\n"
   ]
  },
  {
   "cell_type": "code",
   "execution_count": 14,
   "id": "76901490",
   "metadata": {},
   "outputs": [],
   "source": [
    "# Import Dependencies\n",
    "import numpy as np\n",
    "import pandas as pd\n",
    "from sklearn.datasets import load_boston\n",
    "import tensorflow as tf\n",
    "import matplotlib.pyplot as plt\n",
    "%matplotlib inline"
   ]
  },
  {
   "cell_type": "code",
   "execution_count": 15,
   "id": "3de6ed4b",
   "metadata": {},
   "outputs": [
    {
     "name": "stdout",
     "output_type": "stream",
     "text": [
      "{'data': array([[6.3200e-03, 1.8000e+01, 2.3100e+00, ..., 1.5300e+01, 3.9690e+02,\n",
      "        4.9800e+00],\n",
      "       [2.7310e-02, 0.0000e+00, 7.0700e+00, ..., 1.7800e+01, 3.9690e+02,\n",
      "        9.1400e+00],\n",
      "       [2.7290e-02, 0.0000e+00, 7.0700e+00, ..., 1.7800e+01, 3.9283e+02,\n",
      "        4.0300e+00],\n",
      "       ...,\n",
      "       [6.0760e-02, 0.0000e+00, 1.1930e+01, ..., 2.1000e+01, 3.9690e+02,\n",
      "        5.6400e+00],\n",
      "       [1.0959e-01, 0.0000e+00, 1.1930e+01, ..., 2.1000e+01, 3.9345e+02,\n",
      "        6.4800e+00],\n",
      "       [4.7410e-02, 0.0000e+00, 1.1930e+01, ..., 2.1000e+01, 3.9690e+02,\n",
      "        7.8800e+00]]), 'target': array([24. , 21.6, 34.7, 33.4, 36.2, 28.7, 22.9, 27.1, 16.5, 18.9, 15. ,\n",
      "       18.9, 21.7, 20.4, 18.2, 19.9, 23.1, 17.5, 20.2, 18.2, 13.6, 19.6,\n",
      "       15.2, 14.5, 15.6, 13.9, 16.6, 14.8, 18.4, 21. , 12.7, 14.5, 13.2,\n",
      "       13.1, 13.5, 18.9, 20. , 21. , 24.7, 30.8, 34.9, 26.6, 25.3, 24.7,\n",
      "       21.2, 19.3, 20. , 16.6, 14.4, 19.4, 19.7, 20.5, 25. , 23.4, 18.9,\n",
      "       35.4, 24.7, 31.6, 23.3, 19.6, 18.7, 16. , 22.2, 25. , 33. , 23.5,\n",
      "       19.4, 22. , 17.4, 20.9, 24.2, 21.7, 22.8, 23.4, 24.1, 21.4, 20. ,\n",
      "       20.8, 21.2, 20.3, 28. , 23.9, 24.8, 22.9, 23.9, 26.6, 22.5, 22.2,\n",
      "       23.6, 28.7, 22.6, 22. , 22.9, 25. , 20.6, 28.4, 21.4, 38.7, 43.8,\n",
      "       33.2, 27.5, 26.5, 18.6, 19.3, 20.1, 19.5, 19.5, 20.4, 19.8, 19.4,\n",
      "       21.7, 22.8, 18.8, 18.7, 18.5, 18.3, 21.2, 19.2, 20.4, 19.3, 22. ,\n",
      "       20.3, 20.5, 17.3, 18.8, 21.4, 15.7, 16.2, 18. , 14.3, 19.2, 19.6,\n",
      "       23. , 18.4, 15.6, 18.1, 17.4, 17.1, 13.3, 17.8, 14. , 14.4, 13.4,\n",
      "       15.6, 11.8, 13.8, 15.6, 14.6, 17.8, 15.4, 21.5, 19.6, 15.3, 19.4,\n",
      "       17. , 15.6, 13.1, 41.3, 24.3, 23.3, 27. , 50. , 50. , 50. , 22.7,\n",
      "       25. , 50. , 23.8, 23.8, 22.3, 17.4, 19.1, 23.1, 23.6, 22.6, 29.4,\n",
      "       23.2, 24.6, 29.9, 37.2, 39.8, 36.2, 37.9, 32.5, 26.4, 29.6, 50. ,\n",
      "       32. , 29.8, 34.9, 37. , 30.5, 36.4, 31.1, 29.1, 50. , 33.3, 30.3,\n",
      "       34.6, 34.9, 32.9, 24.1, 42.3, 48.5, 50. , 22.6, 24.4, 22.5, 24.4,\n",
      "       20. , 21.7, 19.3, 22.4, 28.1, 23.7, 25. , 23.3, 28.7, 21.5, 23. ,\n",
      "       26.7, 21.7, 27.5, 30.1, 44.8, 50. , 37.6, 31.6, 46.7, 31.5, 24.3,\n",
      "       31.7, 41.7, 48.3, 29. , 24. , 25.1, 31.5, 23.7, 23.3, 22. , 20.1,\n",
      "       22.2, 23.7, 17.6, 18.5, 24.3, 20.5, 24.5, 26.2, 24.4, 24.8, 29.6,\n",
      "       42.8, 21.9, 20.9, 44. , 50. , 36. , 30.1, 33.8, 43.1, 48.8, 31. ,\n",
      "       36.5, 22.8, 30.7, 50. , 43.5, 20.7, 21.1, 25.2, 24.4, 35.2, 32.4,\n",
      "       32. , 33.2, 33.1, 29.1, 35.1, 45.4, 35.4, 46. , 50. , 32.2, 22. ,\n",
      "       20.1, 23.2, 22.3, 24.8, 28.5, 37.3, 27.9, 23.9, 21.7, 28.6, 27.1,\n",
      "       20.3, 22.5, 29. , 24.8, 22. , 26.4, 33.1, 36.1, 28.4, 33.4, 28.2,\n",
      "       22.8, 20.3, 16.1, 22.1, 19.4, 21.6, 23.8, 16.2, 17.8, 19.8, 23.1,\n",
      "       21. , 23.8, 23.1, 20.4, 18.5, 25. , 24.6, 23. , 22.2, 19.3, 22.6,\n",
      "       19.8, 17.1, 19.4, 22.2, 20.7, 21.1, 19.5, 18.5, 20.6, 19. , 18.7,\n",
      "       32.7, 16.5, 23.9, 31.2, 17.5, 17.2, 23.1, 24.5, 26.6, 22.9, 24.1,\n",
      "       18.6, 30.1, 18.2, 20.6, 17.8, 21.7, 22.7, 22.6, 25. , 19.9, 20.8,\n",
      "       16.8, 21.9, 27.5, 21.9, 23.1, 50. , 50. , 50. , 50. , 50. , 13.8,\n",
      "       13.8, 15. , 13.9, 13.3, 13.1, 10.2, 10.4, 10.9, 11.3, 12.3,  8.8,\n",
      "        7.2, 10.5,  7.4, 10.2, 11.5, 15.1, 23.2,  9.7, 13.8, 12.7, 13.1,\n",
      "       12.5,  8.5,  5. ,  6.3,  5.6,  7.2, 12.1,  8.3,  8.5,  5. , 11.9,\n",
      "       27.9, 17.2, 27.5, 15. , 17.2, 17.9, 16.3,  7. ,  7.2,  7.5, 10.4,\n",
      "        8.8,  8.4, 16.7, 14.2, 20.8, 13.4, 11.7,  8.3, 10.2, 10.9, 11. ,\n",
      "        9.5, 14.5, 14.1, 16.1, 14.3, 11.7, 13.4,  9.6,  8.7,  8.4, 12.8,\n",
      "       10.5, 17.1, 18.4, 15.4, 10.8, 11.8, 14.9, 12.6, 14.1, 13. , 13.4,\n",
      "       15.2, 16.1, 17.8, 14.9, 14.1, 12.7, 13.5, 14.9, 20. , 16.4, 17.7,\n",
      "       19.5, 20.2, 21.4, 19.9, 19. , 19.1, 19.1, 20.1, 19.9, 19.6, 23.2,\n",
      "       29.8, 13.8, 13.3, 16.7, 12. , 14.6, 21.4, 23. , 23.7, 25. , 21.8,\n",
      "       20.6, 21.2, 19.1, 20.6, 15.2,  7. ,  8.1, 13.6, 20.1, 21.8, 24.5,\n",
      "       23.1, 19.7, 18.3, 21.2, 17.5, 16.8, 22.4, 20.6, 23.9, 22. , 11.9]), 'feature_names': array(['CRIM', 'ZN', 'INDUS', 'CHAS', 'NOX', 'RM', 'AGE', 'DIS', 'RAD',\n",
      "       'TAX', 'PTRATIO', 'B', 'LSTAT'], dtype='<U7'), 'DESCR': \".. _boston_dataset:\\n\\nBoston house prices dataset\\n---------------------------\\n\\n**Data Set Characteristics:**  \\n\\n    :Number of Instances: 506 \\n\\n    :Number of Attributes: 13 numeric/categorical predictive. Median Value (attribute 14) is usually the target.\\n\\n    :Attribute Information (in order):\\n        - CRIM     per capita crime rate by town\\n        - ZN       proportion of residential land zoned for lots over 25,000 sq.ft.\\n        - INDUS    proportion of non-retail business acres per town\\n        - CHAS     Charles River dummy variable (= 1 if tract bounds river; 0 otherwise)\\n        - NOX      nitric oxides concentration (parts per 10 million)\\n        - RM       average number of rooms per dwelling\\n        - AGE      proportion of owner-occupied units built prior to 1940\\n        - DIS      weighted distances to five Boston employment centres\\n        - RAD      index of accessibility to radial highways\\n        - TAX      full-value property-tax rate per $10,000\\n        - PTRATIO  pupil-teacher ratio by town\\n        - B        1000(Bk - 0.63)^2 where Bk is the proportion of black people by town\\n        - LSTAT    % lower status of the population\\n        - MEDV     Median value of owner-occupied homes in $1000's\\n\\n    :Missing Attribute Values: None\\n\\n    :Creator: Harrison, D. and Rubinfeld, D.L.\\n\\nThis is a copy of UCI ML housing dataset.\\nhttps://archive.ics.uci.edu/ml/machine-learning-databases/housing/\\n\\n\\nThis dataset was taken from the StatLib library which is maintained at Carnegie Mellon University.\\n\\nThe Boston house-price data of Harrison, D. and Rubinfeld, D.L. 'Hedonic\\nprices and the demand for clean air', J. Environ. Economics & Management,\\nvol.5, 81-102, 1978.   Used in Belsley, Kuh & Welsch, 'Regression diagnostics\\n...', Wiley, 1980.   N.B. Various transformations are used in the table on\\npages 244-261 of the latter.\\n\\nThe Boston house-price data has been used in many machine learning papers that address regression\\nproblems.   \\n     \\n.. topic:: References\\n\\n   - Belsley, Kuh & Welsch, 'Regression diagnostics: Identifying Influential Data and Sources of Collinearity', Wiley, 1980. 244-261.\\n   - Quinlan,R. (1993). Combining Instance-Based and Model-Based Learning. In Proceedings on the Tenth International Conference of Machine Learning, 236-243, University of Massachusetts, Amherst. Morgan Kaufmann.\\n\", 'filename': 'boston_house_prices.csv', 'data_module': 'sklearn.datasets.data'}\n"
     ]
    },
    {
     "name": "stderr",
     "output_type": "stream",
     "text": [
      "C:\\Users\\Kushal Raj Sharma\\.conda\\envs\\tensorflow\\lib\\site-packages\\sklearn\\utils\\deprecation.py:87: FutureWarning: Function load_boston is deprecated; `load_boston` is deprecated in 1.0 and will be removed in 1.2.\n",
      "\n",
      "    The Boston housing prices dataset has an ethical problem. You can refer to\n",
      "    the documentation of this function for further details.\n",
      "\n",
      "    The scikit-learn maintainers therefore strongly discourage the use of this\n",
      "    dataset unless the purpose of the code is to study and educate about\n",
      "    ethical issues in data science and machine learning.\n",
      "\n",
      "    In this special case, you can fetch the dataset from the original\n",
      "    source::\n",
      "\n",
      "        import pandas as pd\n",
      "        import numpy as np\n",
      "\n",
      "\n",
      "        data_url = \"http://lib.stat.cmu.edu/datasets/boston\"\n",
      "        raw_df = pd.read_csv(data_url, sep=\"\\s+\", skiprows=22, header=None)\n",
      "        data = np.hstack([raw_df.values[::2, :], raw_df.values[1::2, :2]])\n",
      "        target = raw_df.values[1::2, 2]\n",
      "\n",
      "    Alternative datasets include the California housing dataset (i.e.\n",
      "    :func:`~sklearn.datasets.fetch_california_housing`) and the Ames housing\n",
      "    dataset. You can load the datasets as follows::\n",
      "\n",
      "        from sklearn.datasets import fetch_california_housing\n",
      "        housing = fetch_california_housing()\n",
      "\n",
      "    for the California housing dataset and::\n",
      "\n",
      "        from sklearn.datasets import fetch_openml\n",
      "        housing = fetch_openml(name=\"house_prices\", as_frame=True)\n",
      "\n",
      "    for the Ames housing dataset.\n",
      "    \n",
      "  warnings.warn(msg, category=FutureWarning)\n"
     ]
    }
   ],
   "source": [
    "# Load Dataset\n",
    "housing = load_boston()\n",
    "\n",
    "# Print out the Dataset\n",
    "print(housing)"
   ]
  },
  {
   "cell_type": "code",
   "execution_count": 17,
   "id": "e7249d86",
   "metadata": {},
   "outputs": [
    {
     "data": {
      "text/html": [
       "<div>\n",
       "<style scoped>\n",
       "    .dataframe tbody tr th:only-of-type {\n",
       "        vertical-align: middle;\n",
       "    }\n",
       "\n",
       "    .dataframe tbody tr th {\n",
       "        vertical-align: top;\n",
       "    }\n",
       "\n",
       "    .dataframe thead tr th {\n",
       "        text-align: left;\n",
       "    }\n",
       "</style>\n",
       "<table border=\"1\" class=\"dataframe\">\n",
       "  <thead>\n",
       "    <tr>\n",
       "      <th></th>\n",
       "      <th>CRIM</th>\n",
       "      <th>ZN</th>\n",
       "      <th>INDUS</th>\n",
       "      <th>CHAS</th>\n",
       "      <th>NOX</th>\n",
       "      <th>RM</th>\n",
       "      <th>AGE</th>\n",
       "      <th>DIS</th>\n",
       "      <th>RAD</th>\n",
       "      <th>TAX</th>\n",
       "      <th>PTRATIO</th>\n",
       "      <th>B</th>\n",
       "      <th>LSTAT</th>\n",
       "    </tr>\n",
       "  </thead>\n",
       "  <tbody>\n",
       "    <tr>\n",
       "      <th>0</th>\n",
       "      <td>0.00632</td>\n",
       "      <td>18.0</td>\n",
       "      <td>2.31</td>\n",
       "      <td>0.0</td>\n",
       "      <td>0.538</td>\n",
       "      <td>6.575</td>\n",
       "      <td>65.2</td>\n",
       "      <td>4.0900</td>\n",
       "      <td>1.0</td>\n",
       "      <td>296.0</td>\n",
       "      <td>15.3</td>\n",
       "      <td>396.90</td>\n",
       "      <td>4.98</td>\n",
       "    </tr>\n",
       "    <tr>\n",
       "      <th>1</th>\n",
       "      <td>0.02731</td>\n",
       "      <td>0.0</td>\n",
       "      <td>7.07</td>\n",
       "      <td>0.0</td>\n",
       "      <td>0.469</td>\n",
       "      <td>6.421</td>\n",
       "      <td>78.9</td>\n",
       "      <td>4.9671</td>\n",
       "      <td>2.0</td>\n",
       "      <td>242.0</td>\n",
       "      <td>17.8</td>\n",
       "      <td>396.90</td>\n",
       "      <td>9.14</td>\n",
       "    </tr>\n",
       "    <tr>\n",
       "      <th>2</th>\n",
       "      <td>0.02729</td>\n",
       "      <td>0.0</td>\n",
       "      <td>7.07</td>\n",
       "      <td>0.0</td>\n",
       "      <td>0.469</td>\n",
       "      <td>7.185</td>\n",
       "      <td>61.1</td>\n",
       "      <td>4.9671</td>\n",
       "      <td>2.0</td>\n",
       "      <td>242.0</td>\n",
       "      <td>17.8</td>\n",
       "      <td>392.83</td>\n",
       "      <td>4.03</td>\n",
       "    </tr>\n",
       "    <tr>\n",
       "      <th>3</th>\n",
       "      <td>0.03237</td>\n",
       "      <td>0.0</td>\n",
       "      <td>2.18</td>\n",
       "      <td>0.0</td>\n",
       "      <td>0.458</td>\n",
       "      <td>6.998</td>\n",
       "      <td>45.8</td>\n",
       "      <td>6.0622</td>\n",
       "      <td>3.0</td>\n",
       "      <td>222.0</td>\n",
       "      <td>18.7</td>\n",
       "      <td>394.63</td>\n",
       "      <td>2.94</td>\n",
       "    </tr>\n",
       "    <tr>\n",
       "      <th>4</th>\n",
       "      <td>0.06905</td>\n",
       "      <td>0.0</td>\n",
       "      <td>2.18</td>\n",
       "      <td>0.0</td>\n",
       "      <td>0.458</td>\n",
       "      <td>7.147</td>\n",
       "      <td>54.2</td>\n",
       "      <td>6.0622</td>\n",
       "      <td>3.0</td>\n",
       "      <td>222.0</td>\n",
       "      <td>18.7</td>\n",
       "      <td>396.90</td>\n",
       "      <td>5.33</td>\n",
       "    </tr>\n",
       "  </tbody>\n",
       "</table>\n",
       "</div>"
      ],
      "text/plain": [
       "      CRIM    ZN INDUS CHAS    NOX     RM   AGE     DIS  RAD    TAX PTRATIO  \\\n",
       "0  0.00632  18.0  2.31  0.0  0.538  6.575  65.2  4.0900  1.0  296.0    15.3   \n",
       "1  0.02731   0.0  7.07  0.0  0.469  6.421  78.9  4.9671  2.0  242.0    17.8   \n",
       "2  0.02729   0.0  7.07  0.0  0.469  7.185  61.1  4.9671  2.0  242.0    17.8   \n",
       "3  0.03237   0.0  2.18  0.0  0.458  6.998  45.8  6.0622  3.0  222.0    18.7   \n",
       "4  0.06905   0.0  2.18  0.0  0.458  7.147  54.2  6.0622  3.0  222.0    18.7   \n",
       "\n",
       "        B LSTAT  \n",
       "0  396.90  4.98  \n",
       "1  396.90  9.14  \n",
       "2  392.83  4.03  \n",
       "3  394.63  2.94  \n",
       "4  396.90  5.33  "
      ]
     },
     "execution_count": 17,
     "metadata": {},
     "output_type": "execute_result"
    }
   ],
   "source": [
    "# Seperate Data into Features and Labels\n",
    "# Features\n",
    "features_df = pd.DataFrame(np.array(housing.data), columns=[housing.feature_names])\n",
    "\n",
    "features_df.head()"
   ]
  },
  {
   "cell_type": "code",
   "execution_count": 18,
   "id": "c91ac556",
   "metadata": {},
   "outputs": [
    {
     "data": {
      "text/plain": [
       "(506, 13)"
      ]
     },
     "execution_count": 18,
     "metadata": {},
     "output_type": "execute_result"
    }
   ],
   "source": [
    "features_df.shape\n"
   ]
  },
  {
   "cell_type": "code",
   "execution_count": 19,
   "id": "8e655fe8",
   "metadata": {},
   "outputs": [
    {
     "data": {
      "text/html": [
       "<div>\n",
       "<style scoped>\n",
       "    .dataframe tbody tr th:only-of-type {\n",
       "        vertical-align: middle;\n",
       "    }\n",
       "\n",
       "    .dataframe tbody tr th {\n",
       "        vertical-align: top;\n",
       "    }\n",
       "\n",
       "    .dataframe thead tr th {\n",
       "        text-align: left;\n",
       "    }\n",
       "</style>\n",
       "<table border=\"1\" class=\"dataframe\">\n",
       "  <thead>\n",
       "    <tr>\n",
       "      <th></th>\n",
       "      <th>CRIM</th>\n",
       "      <th>ZN</th>\n",
       "      <th>INDUS</th>\n",
       "      <th>CHAS</th>\n",
       "      <th>NOX</th>\n",
       "      <th>RM</th>\n",
       "      <th>AGE</th>\n",
       "      <th>DIS</th>\n",
       "      <th>RAD</th>\n",
       "      <th>TAX</th>\n",
       "      <th>PTRATIO</th>\n",
       "      <th>B</th>\n",
       "      <th>LSTAT</th>\n",
       "    </tr>\n",
       "  </thead>\n",
       "  <tbody>\n",
       "    <tr>\n",
       "      <th>CRIM</th>\n",
       "      <td>1.000000</td>\n",
       "      <td>-0.200469</td>\n",
       "      <td>0.406583</td>\n",
       "      <td>-0.055892</td>\n",
       "      <td>0.420972</td>\n",
       "      <td>-0.219247</td>\n",
       "      <td>0.352734</td>\n",
       "      <td>-0.379670</td>\n",
       "      <td>0.625505</td>\n",
       "      <td>0.582764</td>\n",
       "      <td>0.289946</td>\n",
       "      <td>-0.385064</td>\n",
       "      <td>0.455621</td>\n",
       "    </tr>\n",
       "    <tr>\n",
       "      <th>ZN</th>\n",
       "      <td>-0.200469</td>\n",
       "      <td>1.000000</td>\n",
       "      <td>-0.533828</td>\n",
       "      <td>-0.042697</td>\n",
       "      <td>-0.516604</td>\n",
       "      <td>0.311991</td>\n",
       "      <td>-0.569537</td>\n",
       "      <td>0.664408</td>\n",
       "      <td>-0.311948</td>\n",
       "      <td>-0.314563</td>\n",
       "      <td>-0.391679</td>\n",
       "      <td>0.175520</td>\n",
       "      <td>-0.412995</td>\n",
       "    </tr>\n",
       "    <tr>\n",
       "      <th>INDUS</th>\n",
       "      <td>0.406583</td>\n",
       "      <td>-0.533828</td>\n",
       "      <td>1.000000</td>\n",
       "      <td>0.062938</td>\n",
       "      <td>0.763651</td>\n",
       "      <td>-0.391676</td>\n",
       "      <td>0.644779</td>\n",
       "      <td>-0.708027</td>\n",
       "      <td>0.595129</td>\n",
       "      <td>0.720760</td>\n",
       "      <td>0.383248</td>\n",
       "      <td>-0.356977</td>\n",
       "      <td>0.603800</td>\n",
       "    </tr>\n",
       "    <tr>\n",
       "      <th>CHAS</th>\n",
       "      <td>-0.055892</td>\n",
       "      <td>-0.042697</td>\n",
       "      <td>0.062938</td>\n",
       "      <td>1.000000</td>\n",
       "      <td>0.091203</td>\n",
       "      <td>0.091251</td>\n",
       "      <td>0.086518</td>\n",
       "      <td>-0.099176</td>\n",
       "      <td>-0.007368</td>\n",
       "      <td>-0.035587</td>\n",
       "      <td>-0.121515</td>\n",
       "      <td>0.048788</td>\n",
       "      <td>-0.053929</td>\n",
       "    </tr>\n",
       "    <tr>\n",
       "      <th>NOX</th>\n",
       "      <td>0.420972</td>\n",
       "      <td>-0.516604</td>\n",
       "      <td>0.763651</td>\n",
       "      <td>0.091203</td>\n",
       "      <td>1.000000</td>\n",
       "      <td>-0.302188</td>\n",
       "      <td>0.731470</td>\n",
       "      <td>-0.769230</td>\n",
       "      <td>0.611441</td>\n",
       "      <td>0.668023</td>\n",
       "      <td>0.188933</td>\n",
       "      <td>-0.380051</td>\n",
       "      <td>0.590879</td>\n",
       "    </tr>\n",
       "    <tr>\n",
       "      <th>RM</th>\n",
       "      <td>-0.219247</td>\n",
       "      <td>0.311991</td>\n",
       "      <td>-0.391676</td>\n",
       "      <td>0.091251</td>\n",
       "      <td>-0.302188</td>\n",
       "      <td>1.000000</td>\n",
       "      <td>-0.240265</td>\n",
       "      <td>0.205246</td>\n",
       "      <td>-0.209847</td>\n",
       "      <td>-0.292048</td>\n",
       "      <td>-0.355501</td>\n",
       "      <td>0.128069</td>\n",
       "      <td>-0.613808</td>\n",
       "    </tr>\n",
       "    <tr>\n",
       "      <th>AGE</th>\n",
       "      <td>0.352734</td>\n",
       "      <td>-0.569537</td>\n",
       "      <td>0.644779</td>\n",
       "      <td>0.086518</td>\n",
       "      <td>0.731470</td>\n",
       "      <td>-0.240265</td>\n",
       "      <td>1.000000</td>\n",
       "      <td>-0.747881</td>\n",
       "      <td>0.456022</td>\n",
       "      <td>0.506456</td>\n",
       "      <td>0.261515</td>\n",
       "      <td>-0.273534</td>\n",
       "      <td>0.602339</td>\n",
       "    </tr>\n",
       "    <tr>\n",
       "      <th>DIS</th>\n",
       "      <td>-0.379670</td>\n",
       "      <td>0.664408</td>\n",
       "      <td>-0.708027</td>\n",
       "      <td>-0.099176</td>\n",
       "      <td>-0.769230</td>\n",
       "      <td>0.205246</td>\n",
       "      <td>-0.747881</td>\n",
       "      <td>1.000000</td>\n",
       "      <td>-0.494588</td>\n",
       "      <td>-0.534432</td>\n",
       "      <td>-0.232471</td>\n",
       "      <td>0.291512</td>\n",
       "      <td>-0.496996</td>\n",
       "    </tr>\n",
       "    <tr>\n",
       "      <th>RAD</th>\n",
       "      <td>0.625505</td>\n",
       "      <td>-0.311948</td>\n",
       "      <td>0.595129</td>\n",
       "      <td>-0.007368</td>\n",
       "      <td>0.611441</td>\n",
       "      <td>-0.209847</td>\n",
       "      <td>0.456022</td>\n",
       "      <td>-0.494588</td>\n",
       "      <td>1.000000</td>\n",
       "      <td>0.910228</td>\n",
       "      <td>0.464741</td>\n",
       "      <td>-0.444413</td>\n",
       "      <td>0.488676</td>\n",
       "    </tr>\n",
       "    <tr>\n",
       "      <th>TAX</th>\n",
       "      <td>0.582764</td>\n",
       "      <td>-0.314563</td>\n",
       "      <td>0.720760</td>\n",
       "      <td>-0.035587</td>\n",
       "      <td>0.668023</td>\n",
       "      <td>-0.292048</td>\n",
       "      <td>0.506456</td>\n",
       "      <td>-0.534432</td>\n",
       "      <td>0.910228</td>\n",
       "      <td>1.000000</td>\n",
       "      <td>0.460853</td>\n",
       "      <td>-0.441808</td>\n",
       "      <td>0.543993</td>\n",
       "    </tr>\n",
       "    <tr>\n",
       "      <th>PTRATIO</th>\n",
       "      <td>0.289946</td>\n",
       "      <td>-0.391679</td>\n",
       "      <td>0.383248</td>\n",
       "      <td>-0.121515</td>\n",
       "      <td>0.188933</td>\n",
       "      <td>-0.355501</td>\n",
       "      <td>0.261515</td>\n",
       "      <td>-0.232471</td>\n",
       "      <td>0.464741</td>\n",
       "      <td>0.460853</td>\n",
       "      <td>1.000000</td>\n",
       "      <td>-0.177383</td>\n",
       "      <td>0.374044</td>\n",
       "    </tr>\n",
       "    <tr>\n",
       "      <th>B</th>\n",
       "      <td>-0.385064</td>\n",
       "      <td>0.175520</td>\n",
       "      <td>-0.356977</td>\n",
       "      <td>0.048788</td>\n",
       "      <td>-0.380051</td>\n",
       "      <td>0.128069</td>\n",
       "      <td>-0.273534</td>\n",
       "      <td>0.291512</td>\n",
       "      <td>-0.444413</td>\n",
       "      <td>-0.441808</td>\n",
       "      <td>-0.177383</td>\n",
       "      <td>1.000000</td>\n",
       "      <td>-0.366087</td>\n",
       "    </tr>\n",
       "    <tr>\n",
       "      <th>LSTAT</th>\n",
       "      <td>0.455621</td>\n",
       "      <td>-0.412995</td>\n",
       "      <td>0.603800</td>\n",
       "      <td>-0.053929</td>\n",
       "      <td>0.590879</td>\n",
       "      <td>-0.613808</td>\n",
       "      <td>0.602339</td>\n",
       "      <td>-0.496996</td>\n",
       "      <td>0.488676</td>\n",
       "      <td>0.543993</td>\n",
       "      <td>0.374044</td>\n",
       "      <td>-0.366087</td>\n",
       "      <td>1.000000</td>\n",
       "    </tr>\n",
       "  </tbody>\n",
       "</table>\n",
       "</div>"
      ],
      "text/plain": [
       "             CRIM        ZN     INDUS      CHAS       NOX        RM       AGE  \\\n",
       "CRIM     1.000000 -0.200469  0.406583 -0.055892  0.420972 -0.219247  0.352734   \n",
       "ZN      -0.200469  1.000000 -0.533828 -0.042697 -0.516604  0.311991 -0.569537   \n",
       "INDUS    0.406583 -0.533828  1.000000  0.062938  0.763651 -0.391676  0.644779   \n",
       "CHAS    -0.055892 -0.042697  0.062938  1.000000  0.091203  0.091251  0.086518   \n",
       "NOX      0.420972 -0.516604  0.763651  0.091203  1.000000 -0.302188  0.731470   \n",
       "RM      -0.219247  0.311991 -0.391676  0.091251 -0.302188  1.000000 -0.240265   \n",
       "AGE      0.352734 -0.569537  0.644779  0.086518  0.731470 -0.240265  1.000000   \n",
       "DIS     -0.379670  0.664408 -0.708027 -0.099176 -0.769230  0.205246 -0.747881   \n",
       "RAD      0.625505 -0.311948  0.595129 -0.007368  0.611441 -0.209847  0.456022   \n",
       "TAX      0.582764 -0.314563  0.720760 -0.035587  0.668023 -0.292048  0.506456   \n",
       "PTRATIO  0.289946 -0.391679  0.383248 -0.121515  0.188933 -0.355501  0.261515   \n",
       "B       -0.385064  0.175520 -0.356977  0.048788 -0.380051  0.128069 -0.273534   \n",
       "LSTAT    0.455621 -0.412995  0.603800 -0.053929  0.590879 -0.613808  0.602339   \n",
       "\n",
       "              DIS       RAD       TAX   PTRATIO         B     LSTAT  \n",
       "CRIM    -0.379670  0.625505  0.582764  0.289946 -0.385064  0.455621  \n",
       "ZN       0.664408 -0.311948 -0.314563 -0.391679  0.175520 -0.412995  \n",
       "INDUS   -0.708027  0.595129  0.720760  0.383248 -0.356977  0.603800  \n",
       "CHAS    -0.099176 -0.007368 -0.035587 -0.121515  0.048788 -0.053929  \n",
       "NOX     -0.769230  0.611441  0.668023  0.188933 -0.380051  0.590879  \n",
       "RM       0.205246 -0.209847 -0.292048 -0.355501  0.128069 -0.613808  \n",
       "AGE     -0.747881  0.456022  0.506456  0.261515 -0.273534  0.602339  \n",
       "DIS      1.000000 -0.494588 -0.534432 -0.232471  0.291512 -0.496996  \n",
       "RAD     -0.494588  1.000000  0.910228  0.464741 -0.444413  0.488676  \n",
       "TAX     -0.534432  0.910228  1.000000  0.460853 -0.441808  0.543993  \n",
       "PTRATIO -0.232471  0.464741  0.460853  1.000000 -0.177383  0.374044  \n",
       "B        0.291512 -0.444413 -0.441808 -0.177383  1.000000 -0.366087  \n",
       "LSTAT   -0.496996  0.488676  0.543993  0.374044 -0.366087  1.000000  "
      ]
     },
     "execution_count": 19,
     "metadata": {},
     "output_type": "execute_result"
    }
   ],
   "source": [
    "features_df.corr()\n"
   ]
  },
  {
   "cell_type": "code",
   "execution_count": 20,
   "id": "6d8e01c7",
   "metadata": {},
   "outputs": [
    {
     "data": {
      "text/html": [
       "<div>\n",
       "<style scoped>\n",
       "    .dataframe tbody tr th:only-of-type {\n",
       "        vertical-align: middle;\n",
       "    }\n",
       "\n",
       "    .dataframe tbody tr th {\n",
       "        vertical-align: top;\n",
       "    }\n",
       "\n",
       "    .dataframe thead th {\n",
       "        text-align: right;\n",
       "    }\n",
       "</style>\n",
       "<table border=\"1\" class=\"dataframe\">\n",
       "  <thead>\n",
       "    <tr style=\"text-align: right;\">\n",
       "      <th></th>\n",
       "      <th>labels</th>\n",
       "    </tr>\n",
       "  </thead>\n",
       "  <tbody>\n",
       "    <tr>\n",
       "      <th>0</th>\n",
       "      <td>24.0</td>\n",
       "    </tr>\n",
       "    <tr>\n",
       "      <th>1</th>\n",
       "      <td>21.6</td>\n",
       "    </tr>\n",
       "    <tr>\n",
       "      <th>2</th>\n",
       "      <td>34.7</td>\n",
       "    </tr>\n",
       "    <tr>\n",
       "      <th>3</th>\n",
       "      <td>33.4</td>\n",
       "    </tr>\n",
       "    <tr>\n",
       "      <th>4</th>\n",
       "      <td>36.2</td>\n",
       "    </tr>\n",
       "  </tbody>\n",
       "</table>\n",
       "</div>"
      ],
      "text/plain": [
       "   labels\n",
       "0    24.0\n",
       "1    21.6\n",
       "2    34.7\n",
       "3    33.4\n",
       "4    36.2"
      ]
     },
     "execution_count": 20,
     "metadata": {},
     "output_type": "execute_result"
    }
   ],
   "source": [
    "# Labels\n",
    "labels_df = pd.DataFrame(np.array(housing.target), columns=['labels'])\n",
    "labels_df.head()"
   ]
  },
  {
   "cell_type": "code",
   "execution_count": 21,
   "id": "a9aab8b3",
   "metadata": {},
   "outputs": [
    {
     "data": {
      "text/plain": [
       "(pandas.core.frame.DataFrame, pandas.core.frame.DataFrame)"
      ]
     },
     "execution_count": 21,
     "metadata": {},
     "output_type": "execute_result"
    }
   ],
   "source": [
    "type(features_df), type(labels_df)"
   ]
  },
  {
   "cell_type": "code",
   "execution_count": 22,
   "id": "add9c235",
   "metadata": {},
   "outputs": [
    {
     "data": {
      "text/plain": [
       "(506, 13)"
      ]
     },
     "execution_count": 22,
     "metadata": {},
     "output_type": "execute_result"
    }
   ],
   "source": [
    "features_df.shape "
   ]
  },
  {
   "cell_type": "code",
   "execution_count": 23,
   "id": "2a46a418",
   "metadata": {},
   "outputs": [
    {
     "data": {
      "text/plain": [
       "(506, 1)"
      ]
     },
     "execution_count": 23,
     "metadata": {},
     "output_type": "execute_result"
    }
   ],
   "source": [
    "labels_df.shape"
   ]
  },
  {
   "cell_type": "code",
   "execution_count": 24,
   "id": "3e73e4a8",
   "metadata": {},
   "outputs": [
    {
     "name": "stdout",
     "output_type": "stream",
     "text": [
      "<class 'pandas.core.frame.DataFrame'>\n",
      "RangeIndex: 506 entries, 0 to 505\n",
      "Data columns (total 13 columns):\n",
      " #   Column      Non-Null Count  Dtype  \n",
      "---  ------      --------------  -----  \n",
      " 0   (CRIM,)     506 non-null    float64\n",
      " 1   (ZN,)       506 non-null    float64\n",
      " 2   (INDUS,)    506 non-null    float64\n",
      " 3   (CHAS,)     506 non-null    float64\n",
      " 4   (NOX,)      506 non-null    float64\n",
      " 5   (RM,)       506 non-null    float64\n",
      " 6   (AGE,)      506 non-null    float64\n",
      " 7   (DIS,)      506 non-null    float64\n",
      " 8   (RAD,)      506 non-null    float64\n",
      " 9   (TAX,)      506 non-null    float64\n",
      " 10  (PTRATIO,)  506 non-null    float64\n",
      " 11  (B,)        506 non-null    float64\n",
      " 12  (LSTAT,)    506 non-null    float64\n",
      "dtypes: float64(13)\n",
      "memory usage: 51.5 KB\n"
     ]
    }
   ],
   "source": [
    "features_df.info()"
   ]
  },
  {
   "cell_type": "code",
   "execution_count": 25,
   "id": "f06c0fd3",
   "metadata": {},
   "outputs": [
    {
     "name": "stdout",
     "output_type": "stream",
     "text": [
      "<class 'pandas.core.frame.DataFrame'>\n",
      "RangeIndex: 506 entries, 0 to 505\n",
      "Data columns (total 1 columns):\n",
      " #   Column  Non-Null Count  Dtype  \n",
      "---  ------  --------------  -----  \n",
      " 0   labels  506 non-null    float64\n",
      "dtypes: float64(1)\n",
      "memory usage: 4.1 KB\n"
     ]
    }
   ],
   "source": [
    "labels_df.info()"
   ]
  },
  {
   "cell_type": "markdown",
   "id": "dacd28f0",
   "metadata": {},
   "source": [
    "### Train Test Split"
   ]
  },
  {
   "cell_type": "code",
   "execution_count": 26,
   "id": "2af91506",
   "metadata": {},
   "outputs": [],
   "source": [
    "from sklearn.model_selection import train_test_split\n",
    "x_train, x_test, y_train, y_test = train_test_split(features_df, labels_df, test_size = 0.3, random_state = 5)"
   ]
  },
  {
   "cell_type": "code",
   "execution_count": 27,
   "id": "9aad22f0",
   "metadata": {},
   "outputs": [
    {
     "data": {
      "text/plain": [
       "(354, 13)"
      ]
     },
     "execution_count": 27,
     "metadata": {},
     "output_type": "execute_result"
    }
   ],
   "source": [
    "x_train.shape"
   ]
  },
  {
   "cell_type": "code",
   "execution_count": 28,
   "id": "8657d552",
   "metadata": {},
   "outputs": [
    {
     "data": {
      "text/plain": [
       "(354, 1)"
      ]
     },
     "execution_count": 28,
     "metadata": {},
     "output_type": "execute_result"
    }
   ],
   "source": [
    "y_train.shape\n"
   ]
  },
  {
   "cell_type": "code",
   "execution_count": 29,
   "id": "dba7982e",
   "metadata": {},
   "outputs": [
    {
     "data": {
      "text/plain": [
       "(152, 13)"
      ]
     },
     "execution_count": 29,
     "metadata": {},
     "output_type": "execute_result"
    }
   ],
   "source": [
    "x_test.shape\n"
   ]
  },
  {
   "cell_type": "code",
   "execution_count": 30,
   "id": "a2f9de99",
   "metadata": {},
   "outputs": [
    {
     "data": {
      "text/plain": [
       "(152, 1)"
      ]
     },
     "execution_count": 30,
     "metadata": {},
     "output_type": "execute_result"
    }
   ],
   "source": [
    "y_test.shape"
   ]
  },
  {
   "cell_type": "markdown",
   "id": "f8b3fc73",
   "metadata": {},
   "source": [
    "# Data Preprocessing "
   ]
  },
  {
   "cell_type": "code",
   "execution_count": 31,
   "id": "1b59ba20",
   "metadata": {},
   "outputs": [],
   "source": [
    "# Normalize data\n",
    "from sklearn.preprocessing import StandardScaler\n",
    "from sklearn import preprocessing\n"
   ]
  },
  {
   "cell_type": "code",
   "execution_count": 32,
   "id": "2836bc3c",
   "metadata": {},
   "outputs": [
    {
     "name": "stderr",
     "output_type": "stream",
     "text": [
      "C:\\Users\\Kushal Raj Sharma\\.conda\\envs\\tensorflow\\lib\\site-packages\\sklearn\\utils\\validation.py:1688: FutureWarning: Feature names only support names that are all strings. Got feature names with dtypes: ['tuple']. An error will be raised in 1.2.\n",
      "  warnings.warn(\n"
     ]
    },
    {
     "data": {
      "text/plain": [
       "StandardScaler()"
      ]
     },
     "execution_count": 32,
     "metadata": {},
     "output_type": "execute_result"
    }
   ],
   "source": [
    "# Define the Preprocessing Method and Fit Training Data to it\n",
    "scaler = StandardScaler()\n",
    "scaler.fit(x_train)"
   ]
  },
  {
   "cell_type": "code",
   "execution_count": 33,
   "id": "ced65a1d",
   "metadata": {},
   "outputs": [
    {
     "name": "stderr",
     "output_type": "stream",
     "text": [
      "C:\\Users\\Kushal Raj Sharma\\.conda\\envs\\tensorflow\\lib\\site-packages\\sklearn\\utils\\validation.py:1688: FutureWarning: Feature names only support names that are all strings. Got feature names with dtypes: ['tuple']. An error will be raised in 1.2.\n",
      "  warnings.warn(\n"
     ]
    }
   ],
   "source": [
    "# Make X_train to be the Scaled Version of Data\n",
    "# This process scales all the values in all 6 columns and replaces them with the new values\n",
    "x_train = pd.DataFrame(data=scaler.transform(x_train), columns=x_train.columns, index=x_train.index)"
   ]
  },
  {
   "cell_type": "code",
   "execution_count": 34,
   "id": "d3cacca3",
   "metadata": {},
   "outputs": [
    {
     "data": {
      "text/html": [
       "<div>\n",
       "<style scoped>\n",
       "    .dataframe tbody tr th:only-of-type {\n",
       "        vertical-align: middle;\n",
       "    }\n",
       "\n",
       "    .dataframe tbody tr th {\n",
       "        vertical-align: top;\n",
       "    }\n",
       "\n",
       "    .dataframe thead tr th {\n",
       "        text-align: left;\n",
       "    }\n",
       "</style>\n",
       "<table border=\"1\" class=\"dataframe\">\n",
       "  <thead>\n",
       "    <tr>\n",
       "      <th></th>\n",
       "      <th>CRIM</th>\n",
       "      <th>ZN</th>\n",
       "      <th>INDUS</th>\n",
       "      <th>CHAS</th>\n",
       "      <th>NOX</th>\n",
       "      <th>RM</th>\n",
       "      <th>AGE</th>\n",
       "      <th>DIS</th>\n",
       "      <th>RAD</th>\n",
       "      <th>TAX</th>\n",
       "      <th>PTRATIO</th>\n",
       "      <th>B</th>\n",
       "      <th>LSTAT</th>\n",
       "    </tr>\n",
       "  </thead>\n",
       "  <tbody>\n",
       "    <tr>\n",
       "      <th>445</th>\n",
       "      <td>0.875509</td>\n",
       "      <td>-0.499618</td>\n",
       "      <td>1.069608</td>\n",
       "      <td>-0.251124</td>\n",
       "      <td>1.645428</td>\n",
       "      <td>0.233772</td>\n",
       "      <td>0.969882</td>\n",
       "      <td>-0.900522</td>\n",
       "      <td>1.654486</td>\n",
       "      <td>1.538813</td>\n",
       "      <td>0.810913</td>\n",
       "      <td>-3.463820</td>\n",
       "      <td>1.611369</td>\n",
       "    </tr>\n",
       "    <tr>\n",
       "      <th>428</th>\n",
       "      <td>0.474665</td>\n",
       "      <td>-0.499618</td>\n",
       "      <td>1.069608</td>\n",
       "      <td>-0.251124</td>\n",
       "      <td>1.113435</td>\n",
       "      <td>-0.149715</td>\n",
       "      <td>0.383159</td>\n",
       "      <td>-0.926152</td>\n",
       "      <td>1.654486</td>\n",
       "      <td>1.538813</td>\n",
       "      <td>0.810913</td>\n",
       "      <td>-2.872888</td>\n",
       "      <td>1.265636</td>\n",
       "    </tr>\n",
       "    <tr>\n",
       "      <th>481</th>\n",
       "      <td>0.273444</td>\n",
       "      <td>-0.499618</td>\n",
       "      <td>1.069608</td>\n",
       "      <td>-0.251124</td>\n",
       "      <td>-0.168580</td>\n",
       "      <td>0.653301</td>\n",
       "      <td>0.270733</td>\n",
       "      <td>-0.241993</td>\n",
       "      <td>1.654486</td>\n",
       "      <td>1.538813</td>\n",
       "      <td>0.810913</td>\n",
       "      <td>0.389957</td>\n",
       "      <td>-0.671032</td>\n",
       "    </tr>\n",
       "    <tr>\n",
       "      <th>55</th>\n",
       "      <td>-0.417342</td>\n",
       "      <td>3.445319</td>\n",
       "      <td>-1.442682</td>\n",
       "      <td>-0.251124</td>\n",
       "      <td>-1.293614</td>\n",
       "      <td>1.372699</td>\n",
       "      <td>-1.591321</td>\n",
       "      <td>2.387078</td>\n",
       "      <td>-0.527917</td>\n",
       "      <td>-1.061095</td>\n",
       "      <td>-0.265106</td>\n",
       "      <td>0.421447</td>\n",
       "      <td>-1.082820</td>\n",
       "    </tr>\n",
       "    <tr>\n",
       "      <th>488</th>\n",
       "      <td>-0.400634</td>\n",
       "      <td>-0.499618</td>\n",
       "      <td>2.504352</td>\n",
       "      <td>-0.251124</td>\n",
       "      <td>0.502952</td>\n",
       "      <td>-1.215116</td>\n",
       "      <td>0.896102</td>\n",
       "      <td>-0.982361</td>\n",
       "      <td>-0.642780</td>\n",
       "      <td>1.804713</td>\n",
       "      <td>0.764129</td>\n",
       "      <td>0.412198</td>\n",
       "      <td>0.779361</td>\n",
       "    </tr>\n",
       "    <tr>\n",
       "      <th>...</th>\n",
       "      <td>...</td>\n",
       "      <td>...</td>\n",
       "      <td>...</td>\n",
       "      <td>...</td>\n",
       "      <td>...</td>\n",
       "      <td>...</td>\n",
       "      <td>...</td>\n",
       "      <td>...</td>\n",
       "      <td>...</td>\n",
       "      <td>...</td>\n",
       "      <td>...</td>\n",
       "      <td>...</td>\n",
       "      <td>...</td>\n",
       "    </tr>\n",
       "    <tr>\n",
       "      <th>486</th>\n",
       "      <td>0.271452</td>\n",
       "      <td>-0.499618</td>\n",
       "      <td>1.069608</td>\n",
       "      <td>-0.251124</td>\n",
       "      <td>0.276201</td>\n",
       "      <td>-0.263608</td>\n",
       "      <td>0.442885</td>\n",
       "      <td>-0.137024</td>\n",
       "      <td>1.654486</td>\n",
       "      <td>1.538813</td>\n",
       "      <td>0.810913</td>\n",
       "      <td>0.385663</td>\n",
       "      <td>0.346492</td>\n",
       "    </tr>\n",
       "    <tr>\n",
       "      <th>189</th>\n",
       "      <td>-0.408780</td>\n",
       "      <td>1.472851</td>\n",
       "      <td>-1.112274</td>\n",
       "      <td>-0.251124</td>\n",
       "      <td>-0.997094</td>\n",
       "      <td>1.280432</td>\n",
       "      <td>-0.994058</td>\n",
       "      <td>0.363219</td>\n",
       "      <td>-0.527917</td>\n",
       "      <td>-0.044767</td>\n",
       "      <td>-1.528259</td>\n",
       "      <td>0.432127</td>\n",
       "      <td>-1.001306</td>\n",
       "    </tr>\n",
       "    <tr>\n",
       "      <th>495</th>\n",
       "      <td>-0.397222</td>\n",
       "      <td>-0.499618</td>\n",
       "      <td>-0.182072</td>\n",
       "      <td>-0.251124</td>\n",
       "      <td>0.293643</td>\n",
       "      <td>-0.903713</td>\n",
       "      <td>-1.348902</td>\n",
       "      <td>-0.503239</td>\n",
       "      <td>-0.413054</td>\n",
       "      <td>-0.086129</td>\n",
       "      <td>0.343078</td>\n",
       "      <td>0.392379</td>\n",
       "      <td>0.714712</td>\n",
       "    </tr>\n",
       "    <tr>\n",
       "      <th>206</th>\n",
       "      <td>-0.391072</td>\n",
       "      <td>-0.499618</td>\n",
       "      <td>-0.048122</td>\n",
       "      <td>-0.251124</td>\n",
       "      <td>-0.543592</td>\n",
       "      <td>0.042029</td>\n",
       "      <td>-0.516248</td>\n",
       "      <td>0.259426</td>\n",
       "      <td>-0.642780</td>\n",
       "      <td>-0.759742</td>\n",
       "      <td>0.062378</td>\n",
       "      <td>0.409776</td>\n",
       "      <td>-0.217082</td>\n",
       "    </tr>\n",
       "    <tr>\n",
       "      <th>355</th>\n",
       "      <td>-0.406003</td>\n",
       "      <td>3.006992</td>\n",
       "      <td>-1.339987</td>\n",
       "      <td>-0.251124</td>\n",
       "      <td>-1.206402</td>\n",
       "      <td>-0.520227</td>\n",
       "      <td>-1.675640</td>\n",
       "      <td>3.312831</td>\n",
       "      <td>-0.642780</td>\n",
       "      <td>-0.422936</td>\n",
       "      <td>1.653014</td>\n",
       "      <td>0.202448</td>\n",
       "      <td>-0.976008</td>\n",
       "    </tr>\n",
       "  </tbody>\n",
       "</table>\n",
       "<p>354 rows × 13 columns</p>\n",
       "</div>"
      ],
      "text/plain": [
       "         CRIM        ZN     INDUS      CHAS       NOX        RM       AGE  \\\n",
       "445  0.875509 -0.499618  1.069608 -0.251124  1.645428  0.233772  0.969882   \n",
       "428  0.474665 -0.499618  1.069608 -0.251124  1.113435 -0.149715  0.383159   \n",
       "481  0.273444 -0.499618  1.069608 -0.251124 -0.168580  0.653301  0.270733   \n",
       "55  -0.417342  3.445319 -1.442682 -0.251124 -1.293614  1.372699 -1.591321   \n",
       "488 -0.400634 -0.499618  2.504352 -0.251124  0.502952 -1.215116  0.896102   \n",
       "..        ...       ...       ...       ...       ...       ...       ...   \n",
       "486  0.271452 -0.499618  1.069608 -0.251124  0.276201 -0.263608  0.442885   \n",
       "189 -0.408780  1.472851 -1.112274 -0.251124 -0.997094  1.280432 -0.994058   \n",
       "495 -0.397222 -0.499618 -0.182072 -0.251124  0.293643 -0.903713 -1.348902   \n",
       "206 -0.391072 -0.499618 -0.048122 -0.251124 -0.543592  0.042029 -0.516248   \n",
       "355 -0.406003  3.006992 -1.339987 -0.251124 -1.206402 -0.520227 -1.675640   \n",
       "\n",
       "          DIS       RAD       TAX   PTRATIO         B     LSTAT  \n",
       "445 -0.900522  1.654486  1.538813  0.810913 -3.463820  1.611369  \n",
       "428 -0.926152  1.654486  1.538813  0.810913 -2.872888  1.265636  \n",
       "481 -0.241993  1.654486  1.538813  0.810913  0.389957 -0.671032  \n",
       "55   2.387078 -0.527917 -1.061095 -0.265106  0.421447 -1.082820  \n",
       "488 -0.982361 -0.642780  1.804713  0.764129  0.412198  0.779361  \n",
       "..        ...       ...       ...       ...       ...       ...  \n",
       "486 -0.137024  1.654486  1.538813  0.810913  0.385663  0.346492  \n",
       "189  0.363219 -0.527917 -0.044767 -1.528259  0.432127 -1.001306  \n",
       "495 -0.503239 -0.413054 -0.086129  0.343078  0.392379  0.714712  \n",
       "206  0.259426 -0.642780 -0.759742  0.062378  0.409776 -0.217082  \n",
       "355  3.312831 -0.642780 -0.422936  1.653014  0.202448 -0.976008  \n",
       "\n",
       "[354 rows x 13 columns]"
      ]
     },
     "execution_count": 34,
     "metadata": {},
     "output_type": "execute_result"
    }
   ],
   "source": [
    "x_train"
   ]
  },
  {
   "cell_type": "code",
   "execution_count": 35,
   "id": "77424e4c",
   "metadata": {},
   "outputs": [],
   "source": [
    "# lets convert pandas  dataframe to numpy array \n",
    "x_train = np.array(x_train)\n",
    "y_train = np.array(y_train)"
   ]
  },
  {
   "cell_type": "code",
   "execution_count": 36,
   "id": "e0335f21",
   "metadata": {},
   "outputs": [
    {
     "data": {
      "text/plain": [
       "(numpy.ndarray, numpy.ndarray)"
      ]
     },
     "execution_count": 36,
     "metadata": {},
     "output_type": "execute_result"
    }
   ],
   "source": [
    "# lets check whether it is converted into numpy or not\n",
    "type(x_train), type(y_train)"
   ]
  },
  {
   "cell_type": "code",
   "execution_count": 37,
   "id": "7743ca28",
   "metadata": {},
   "outputs": [
    {
     "name": "stderr",
     "output_type": "stream",
     "text": [
      "C:\\Users\\Kushal Raj Sharma\\.conda\\envs\\tensorflow\\lib\\site-packages\\sklearn\\utils\\validation.py:1688: FutureWarning: Feature names only support names that are all strings. Got feature names with dtypes: ['tuple']. An error will be raised in 1.2.\n",
      "  warnings.warn(\n"
     ]
    },
    {
     "data": {
      "text/plain": [
       "StandardScaler()"
      ]
     },
     "execution_count": 37,
     "metadata": {},
     "output_type": "execute_result"
    }
   ],
   "source": [
    "# Apply same Normalization for Test Features\n",
    "scal = StandardScaler()\n",
    "scal.fit(x_test)"
   ]
  },
  {
   "cell_type": "code",
   "execution_count": 38,
   "id": "575a1965",
   "metadata": {},
   "outputs": [
    {
     "name": "stderr",
     "output_type": "stream",
     "text": [
      "C:\\Users\\Kushal Raj Sharma\\.conda\\envs\\tensorflow\\lib\\site-packages\\sklearn\\utils\\validation.py:1688: FutureWarning: Feature names only support names that are all strings. Got feature names with dtypes: ['tuple']. An error will be raised in 1.2.\n",
      "  warnings.warn(\n"
     ]
    }
   ],
   "source": [
    "# Make X_test to be the Scaled Version of Data\n",
    "# This process scales all the values in all columns and replaces them with the new values\n",
    "x_test = pd.DataFrame(data=scal.transform(x_test), columns=x_test.columns, index=x_test.index)"
   ]
  },
  {
   "cell_type": "code",
   "execution_count": 39,
   "id": "f0748824",
   "metadata": {},
   "outputs": [
    {
     "data": {
      "text/html": [
       "<div>\n",
       "<style scoped>\n",
       "    .dataframe tbody tr th:only-of-type {\n",
       "        vertical-align: middle;\n",
       "    }\n",
       "\n",
       "    .dataframe tbody tr th {\n",
       "        vertical-align: top;\n",
       "    }\n",
       "\n",
       "    .dataframe thead tr th {\n",
       "        text-align: left;\n",
       "    }\n",
       "</style>\n",
       "<table border=\"1\" class=\"dataframe\">\n",
       "  <thead>\n",
       "    <tr>\n",
       "      <th></th>\n",
       "      <th>CRIM</th>\n",
       "      <th>ZN</th>\n",
       "      <th>INDUS</th>\n",
       "      <th>CHAS</th>\n",
       "      <th>NOX</th>\n",
       "      <th>RM</th>\n",
       "      <th>AGE</th>\n",
       "      <th>DIS</th>\n",
       "      <th>RAD</th>\n",
       "      <th>TAX</th>\n",
       "      <th>PTRATIO</th>\n",
       "      <th>B</th>\n",
       "      <th>LSTAT</th>\n",
       "    </tr>\n",
       "  </thead>\n",
       "  <tbody>\n",
       "    <tr>\n",
       "      <th>226</th>\n",
       "      <td>-0.385617</td>\n",
       "      <td>-0.462563</td>\n",
       "      <td>-0.765365</td>\n",
       "      <td>-0.318511</td>\n",
       "      <td>-0.496400</td>\n",
       "      <td>2.477336</td>\n",
       "      <td>0.544070</td>\n",
       "      <td>-0.226759</td>\n",
       "      <td>-0.165979</td>\n",
       "      <td>-0.646530</td>\n",
       "      <td>-0.463706</td>\n",
       "      <td>0.358359</td>\n",
       "      <td>-1.373735</td>\n",
       "    </tr>\n",
       "    <tr>\n",
       "      <th>292</th>\n",
       "      <td>-0.422644</td>\n",
       "      <td>2.817184</td>\n",
       "      <td>-0.940677</td>\n",
       "      <td>-0.318511</td>\n",
       "      <td>-1.285114</td>\n",
       "      <td>0.519142</td>\n",
       "      <td>-1.789897</td>\n",
       "      <td>0.621166</td>\n",
       "      <td>-0.626780</td>\n",
       "      <td>-1.019641</td>\n",
       "      <td>0.346964</td>\n",
       "      <td>0.461784</td>\n",
       "      <td>-1.154674</td>\n",
       "    </tr>\n",
       "    <tr>\n",
       "      <th>90</th>\n",
       "      <td>-0.421500</td>\n",
       "      <td>-0.462563</td>\n",
       "      <td>-1.156662</td>\n",
       "      <td>-0.318511</td>\n",
       "      <td>-0.623612</td>\n",
       "      <td>0.223330</td>\n",
       "      <td>-0.210493</td>\n",
       "      <td>-0.281800</td>\n",
       "      <td>-0.857181</td>\n",
       "      <td>-0.869193</td>\n",
       "      <td>-0.283557</td>\n",
       "      <td>0.410506</td>\n",
       "      <td>-0.581211</td>\n",
       "    </tr>\n",
       "    <tr>\n",
       "      <th>373</th>\n",
       "      <td>0.762239</td>\n",
       "      <td>-0.462563</td>\n",
       "      <td>0.903603</td>\n",
       "      <td>-0.318511</td>\n",
       "      <td>0.894451</td>\n",
       "      <td>-1.875131</td>\n",
       "      <td>1.043413</td>\n",
       "      <td>-1.137352</td>\n",
       "      <td>1.677224</td>\n",
       "      <td>1.513902</td>\n",
       "      <td>0.797337</td>\n",
       "      <td>0.461784</td>\n",
       "      <td>3.040957</td>\n",
       "    </tr>\n",
       "    <tr>\n",
       "      <th>273</th>\n",
       "      <td>-0.402767</td>\n",
       "      <td>0.357374</td>\n",
       "      <td>-0.658776</td>\n",
       "      <td>3.139609</td>\n",
       "      <td>-0.835632</td>\n",
       "      <td>1.992648</td>\n",
       "      <td>-0.739427</td>\n",
       "      <td>0.286546</td>\n",
       "      <td>-0.741980</td>\n",
       "      <td>-1.152035</td>\n",
       "      <td>0.076741</td>\n",
       "      <td>0.395188</td>\n",
       "      <td>-0.892360</td>\n",
       "    </tr>\n",
       "    <tr>\n",
       "      <th>...</th>\n",
       "      <td>...</td>\n",
       "      <td>...</td>\n",
       "      <td>...</td>\n",
       "      <td>...</td>\n",
       "      <td>...</td>\n",
       "      <td>...</td>\n",
       "      <td>...</td>\n",
       "      <td>...</td>\n",
       "      <td>...</td>\n",
       "      <td>...</td>\n",
       "      <td>...</td>\n",
       "      <td>...</td>\n",
       "      <td>...</td>\n",
       "    </tr>\n",
       "    <tr>\n",
       "      <th>60</th>\n",
       "      <td>-0.410532</td>\n",
       "      <td>0.562358</td>\n",
       "      <td>-0.915432</td>\n",
       "      <td>-0.318511</td>\n",
       "      <td>-0.928921</td>\n",
       "      <td>-0.715492</td>\n",
       "      <td>-0.206794</td>\n",
       "      <td>1.561733</td>\n",
       "      <td>-0.165979</td>\n",
       "      <td>-0.784942</td>\n",
       "      <td>0.572151</td>\n",
       "      <td>0.442337</td>\n",
       "      <td>0.024344</td>\n",
       "    </tr>\n",
       "    <tr>\n",
       "      <th>108</th>\n",
       "      <td>-0.412812</td>\n",
       "      <td>-0.462563</td>\n",
       "      <td>-0.434377</td>\n",
       "      <td>-0.318511</td>\n",
       "      <td>-0.360707</td>\n",
       "      <td>0.302491</td>\n",
       "      <td>0.936147</td>\n",
       "      <td>-0.575920</td>\n",
       "      <td>-0.511580</td>\n",
       "      <td>-0.183151</td>\n",
       "      <td>1.112597</td>\n",
       "      <td>0.443750</td>\n",
       "      <td>-0.098441</td>\n",
       "    </tr>\n",
       "    <tr>\n",
       "      <th>298</th>\n",
       "      <td>-0.419592</td>\n",
       "      <td>2.407215</td>\n",
       "      <td>-1.320753</td>\n",
       "      <td>-0.318511</td>\n",
       "      <td>-1.378403</td>\n",
       "      <td>0.123337</td>\n",
       "      <td>-1.911958</td>\n",
       "      <td>1.830429</td>\n",
       "      <td>-0.511580</td>\n",
       "      <td>-0.339616</td>\n",
       "      <td>-1.634674</td>\n",
       "      <td>0.150424</td>\n",
       "      <td>-1.117002</td>\n",
       "    </tr>\n",
       "    <tr>\n",
       "      <th>138</th>\n",
       "      <td>-0.399779</td>\n",
       "      <td>-0.462563</td>\n",
       "      <td>1.435149</td>\n",
       "      <td>-0.318511</td>\n",
       "      <td>0.521296</td>\n",
       "      <td>-0.554392</td>\n",
       "      <td>0.976834</td>\n",
       "      <td>-0.916829</td>\n",
       "      <td>-0.626780</td>\n",
       "      <td>0.135799</td>\n",
       "      <td>1.247709</td>\n",
       "      <td>0.408985</td>\n",
       "      <td>1.164294</td>\n",
       "    </tr>\n",
       "    <tr>\n",
       "      <th>370</th>\n",
       "      <td>0.273244</td>\n",
       "      <td>-0.462563</td>\n",
       "      <td>0.903603</td>\n",
       "      <td>3.139609</td>\n",
       "      <td>0.580661</td>\n",
       "      <td>1.055215</td>\n",
       "      <td>0.950942</td>\n",
       "      <td>-1.124774</td>\n",
       "      <td>1.677224</td>\n",
       "      <td>1.513902</td>\n",
       "      <td>0.797337</td>\n",
       "      <td>0.409094</td>\n",
       "      <td>-1.397454</td>\n",
       "    </tr>\n",
       "  </tbody>\n",
       "</table>\n",
       "<p>152 rows × 13 columns</p>\n",
       "</div>"
      ],
      "text/plain": [
       "         CRIM        ZN     INDUS      CHAS       NOX        RM       AGE  \\\n",
       "226 -0.385617 -0.462563 -0.765365 -0.318511 -0.496400  2.477336  0.544070   \n",
       "292 -0.422644  2.817184 -0.940677 -0.318511 -1.285114  0.519142 -1.789897   \n",
       "90  -0.421500 -0.462563 -1.156662 -0.318511 -0.623612  0.223330 -0.210493   \n",
       "373  0.762239 -0.462563  0.903603 -0.318511  0.894451 -1.875131  1.043413   \n",
       "273 -0.402767  0.357374 -0.658776  3.139609 -0.835632  1.992648 -0.739427   \n",
       "..        ...       ...       ...       ...       ...       ...       ...   \n",
       "60  -0.410532  0.562358 -0.915432 -0.318511 -0.928921 -0.715492 -0.206794   \n",
       "108 -0.412812 -0.462563 -0.434377 -0.318511 -0.360707  0.302491  0.936147   \n",
       "298 -0.419592  2.407215 -1.320753 -0.318511 -1.378403  0.123337 -1.911958   \n",
       "138 -0.399779 -0.462563  1.435149 -0.318511  0.521296 -0.554392  0.976834   \n",
       "370  0.273244 -0.462563  0.903603  3.139609  0.580661  1.055215  0.950942   \n",
       "\n",
       "          DIS       RAD       TAX   PTRATIO         B     LSTAT  \n",
       "226 -0.226759 -0.165979 -0.646530 -0.463706  0.358359 -1.373735  \n",
       "292  0.621166 -0.626780 -1.019641  0.346964  0.461784 -1.154674  \n",
       "90  -0.281800 -0.857181 -0.869193 -0.283557  0.410506 -0.581211  \n",
       "373 -1.137352  1.677224  1.513902  0.797337  0.461784  3.040957  \n",
       "273  0.286546 -0.741980 -1.152035  0.076741  0.395188 -0.892360  \n",
       "..        ...       ...       ...       ...       ...       ...  \n",
       "60   1.561733 -0.165979 -0.784942  0.572151  0.442337  0.024344  \n",
       "108 -0.575920 -0.511580 -0.183151  1.112597  0.443750 -0.098441  \n",
       "298  1.830429 -0.511580 -0.339616 -1.634674  0.150424 -1.117002  \n",
       "138 -0.916829 -0.626780  0.135799  1.247709  0.408985  1.164294  \n",
       "370 -1.124774  1.677224  1.513902  0.797337  0.409094 -1.397454  \n",
       "\n",
       "[152 rows x 13 columns]"
      ]
     },
     "execution_count": 39,
     "metadata": {},
     "output_type": "execute_result"
    }
   ],
   "source": [
    "x_test"
   ]
  },
  {
   "cell_type": "code",
   "execution_count": 40,
   "id": "2c94fa34",
   "metadata": {},
   "outputs": [],
   "source": [
    "x_test = np.array(x_test)\n",
    "y_test = np.array(y_test)"
   ]
  },
  {
   "cell_type": "code",
   "execution_count": 41,
   "id": "fc2e6671",
   "metadata": {},
   "outputs": [
    {
     "data": {
      "text/plain": [
       "(numpy.ndarray, numpy.ndarray)"
      ]
     },
     "execution_count": 41,
     "metadata": {},
     "output_type": "execute_result"
    }
   ],
   "source": [
    "type(x_train), type(y_train)"
   ]
  },
  {
   "cell_type": "code",
   "execution_count": 42,
   "id": "5e7c5b80",
   "metadata": {},
   "outputs": [
    {
     "name": "stdout",
     "output_type": "stream",
     "text": [
      "354 152 354 152\n"
     ]
    }
   ],
   "source": [
    "print (len(x_train),len(x_test),len(y_train),len(y_test))"
   ]
  },
  {
   "cell_type": "markdown",
   "id": "a1880aa5",
   "metadata": {},
   "source": [
    "# Define Feature Columns for Linear Regressor\n"
   ]
  },
  {
   "cell_type": "code",
   "execution_count": 43,
   "id": "eb2e1073",
   "metadata": {},
   "outputs": [
    {
     "data": {
      "text/plain": [
       "MultiIndex([(   'CRIM',),\n",
       "            (     'ZN',),\n",
       "            (  'INDUS',),\n",
       "            (   'CHAS',),\n",
       "            (    'NOX',),\n",
       "            (     'RM',),\n",
       "            (    'AGE',),\n",
       "            (    'DIS',),\n",
       "            (    'RAD',),\n",
       "            (    'TAX',),\n",
       "            ('PTRATIO',),\n",
       "            (      'B',),\n",
       "            (  'LSTAT',)],\n",
       "           )"
      ]
     },
     "execution_count": 43,
     "metadata": {},
     "output_type": "execute_result"
    }
   ],
   "source": [
    "features_df.columns"
   ]
  },
  {
   "cell_type": "code",
   "execution_count": 44,
   "id": "d3568056",
   "metadata": {},
   "outputs": [],
   "source": [
    "# Make feature columns \n",
    "feat_cols = [tf.feature_column.numeric_column('x', shape=np.array(x_train).shape[1:])]\n"
   ]
  },
  {
   "cell_type": "code",
   "execution_count": 45,
   "id": "d74cb65e",
   "metadata": {},
   "outputs": [
    {
     "name": "stdout",
     "output_type": "stream",
     "text": [
      "WARNING:tensorflow:From C:\\Users\\Kushal Raj Sharma\\.conda\\envs\\tensorflow\\lib\\site-packages\\tensorflow\\python\\util\\lazy_loader.py:63: The name tf.estimator.inputs is deprecated. Please use tf.compat.v1.estimator.inputs instead.\n",
      "\n",
      "WARNING:tensorflow:From C:\\Users\\KUSHAL~1\\AppData\\Local\\Temp/ipykernel_17256/3205601765.py:2: The name tf.estimator.inputs.numpy_input_fn is deprecated. Please use tf.compat.v1.estimator.inputs.numpy_input_fn instead.\n",
      "\n"
     ]
    }
   ],
   "source": [
    "\n",
    "# Making input functions\n",
    "input_func = tf.compat.v1.estimator.inputs.numpy_input_fn({'x':x_train}, y_train, batch_size=1, num_epochs=2000, shuffle=True)\n"
   ]
  },
  {
   "cell_type": "code",
   "execution_count": 46,
   "id": "58d05327",
   "metadata": {},
   "outputs": [
    {
     "name": "stdout",
     "output_type": "stream",
     "text": [
      "INFO:tensorflow:Using default config.\n",
      "WARNING:tensorflow:Using temporary folder as model directory: C:\\Users\\KUSHAL~1\\AppData\\Local\\Temp\\tmpbetxdlj8\n",
      "INFO:tensorflow:Using config: {'_model_dir': 'C:\\\\Users\\\\KUSHAL~1\\\\AppData\\\\Local\\\\Temp\\\\tmpbetxdlj8', '_tf_random_seed': None, '_save_summary_steps': 100, '_save_checkpoints_steps': None, '_save_checkpoints_secs': 600, '_session_config': allow_soft_placement: true\n",
      "graph_options {\n",
      "  rewrite_options {\n",
      "    meta_optimizer_iterations: ONE\n",
      "  }\n",
      "}\n",
      ", '_keep_checkpoint_max': 5, '_keep_checkpoint_every_n_hours': 10000, '_log_step_count_steps': 100, '_train_distribute': None, '_device_fn': None, '_protocol': None, '_eval_distribute': None, '_experimental_distribute': None, '_experimental_max_worker_delay_secs': None, '_session_creation_timeout_secs': 7200, '_service': None, '_cluster_spec': ClusterSpec({}), '_task_type': 'worker', '_task_id': 0, '_global_id_in_cluster': 0, '_master': '', '_evaluation_master': '', '_is_chief': True, '_num_ps_replicas': 0, '_num_worker_replicas': 1}\n"
     ]
    }
   ],
   "source": [
    "\n",
    "# Define Linear Regressor Model\n",
    "linear_model = tf.estimator.LinearRegressor(feature_columns=feat_cols, optimizer='Adam')\n"
   ]
  },
  {
   "cell_type": "code",
   "execution_count": 47,
   "id": "b8879117",
   "metadata": {},
   "outputs": [],
   "source": [
    "# Set up Estimator Training Inputs\n",
    "train_input_func = tf.compat.v1.estimator.inputs.numpy_input_fn(x_train, y_train, batch_size = 1, num_epochs = 1000, shuffle = False)"
   ]
  },
  {
   "cell_type": "code",
   "execution_count": 57,
   "id": "b8de92ad",
   "metadata": {},
   "outputs": [],
   "source": [
    "# Set up Estimator Testing Inputs\n",
    "eval_input_func = tf.compat.v1.estimator.inputs.numpy_input_fn({'x' : x_test}, y_test, batch_size = 1, num_epochs = 1, shuffle = False)"
   ]
  },
  {
   "cell_type": "code",
   "execution_count": 58,
   "id": "8c3afb78",
   "metadata": {},
   "outputs": [
    {
     "name": "stdout",
     "output_type": "stream",
     "text": [
      "INFO:tensorflow:Calling model_fn.\n",
      "WARNING:tensorflow:Layer linear/linear_model is casting an input tensor from dtype float64 to the layer's dtype of float32, which is new behavior in TensorFlow 2.  The layer has dtype float32 because its dtype defaults to floatx.\n",
      "\n",
      "If you intended to run this layer in float32, you can safely ignore this warning. If in doubt, this warning is likely only an issue if you are porting a TensorFlow 1.X model to TensorFlow 2.\n",
      "\n",
      "To change all layers to have dtype float64 by default, call `tf.keras.backend.set_floatx('float64')`. To change just this layer, pass dtype='float64' to the layer constructor. If you are the author of this layer, you can disable autocasting by passing autocast=False to the base Layer constructor.\n",
      "\n",
      "INFO:tensorflow:Done calling model_fn.\n",
      "INFO:tensorflow:Create CheckpointSaverHook.\n",
      "INFO:tensorflow:Graph was finalized.\n",
      "INFO:tensorflow:Restoring parameters from C:\\Users\\KUSHAL~1\\AppData\\Local\\Temp\\tmpbetxdlj8\\model.ckpt-2000\n",
      "WARNING:tensorflow:From C:\\Users\\Kushal Raj Sharma\\.conda\\envs\\tensorflow\\lib\\site-packages\\tensorflow\\python\\training\\saver.py:1077: get_checkpoint_mtimes (from tensorflow.python.training.checkpoint_management) is deprecated and will be removed in a future version.\n",
      "Instructions for updating:\n",
      "Use standard file utilities to get mtimes.\n",
      "INFO:tensorflow:Running local_init_op.\n",
      "INFO:tensorflow:Done running local_init_op.\n",
      "INFO:tensorflow:Calling checkpoint listeners before saving checkpoint 2000...\n",
      "INFO:tensorflow:Saving checkpoints for 2000 into C:\\Users\\KUSHAL~1\\AppData\\Local\\Temp\\tmpbetxdlj8\\model.ckpt.\n",
      "INFO:tensorflow:Calling checkpoint listeners after saving checkpoint 2000...\n",
      "INFO:tensorflow:loss = 0.12093384, step = 2000\n",
      "INFO:tensorflow:global_step/sec: 785.096\n",
      "INFO:tensorflow:loss = 0.113826185, step = 2100 (0.132 sec)\n",
      "INFO:tensorflow:global_step/sec: 857.042\n",
      "INFO:tensorflow:loss = 5.005652, step = 2200 (0.116 sec)\n",
      "INFO:tensorflow:global_step/sec: 895.245\n",
      "INFO:tensorflow:loss = 22.67898, step = 2300 (0.109 sec)\n",
      "INFO:tensorflow:global_step/sec: 871.897\n",
      "INFO:tensorflow:loss = 24.002913, step = 2400 (0.115 sec)\n",
      "INFO:tensorflow:global_step/sec: 911.518\n",
      "INFO:tensorflow:loss = 0.19562156, step = 2500 (0.113 sec)\n",
      "INFO:tensorflow:global_step/sec: 1023.14\n",
      "INFO:tensorflow:loss = 3.3916678, step = 2600 (0.096 sec)\n",
      "INFO:tensorflow:global_step/sec: 1033.69\n",
      "INFO:tensorflow:loss = 2.0368953, step = 2700 (0.099 sec)\n",
      "INFO:tensorflow:global_step/sec: 895.247\n",
      "INFO:tensorflow:loss = 45.645065, step = 2800 (0.111 sec)\n",
      "INFO:tensorflow:global_step/sec: 795.779\n",
      "INFO:tensorflow:loss = 1.3186809, step = 2900 (0.126 sec)\n",
      "INFO:tensorflow:global_step/sec: 964.101\n",
      "INFO:tensorflow:loss = 24.889763, step = 3000 (0.102 sec)\n",
      "INFO:tensorflow:global_step/sec: 1066.67\n",
      "INFO:tensorflow:loss = 7.071008, step = 3100 (0.094 sec)\n",
      "INFO:tensorflow:global_step/sec: 1237.89\n",
      "INFO:tensorflow:loss = 69.39422, step = 3200 (0.083 sec)\n",
      "INFO:tensorflow:global_step/sec: 1089.86\n",
      "INFO:tensorflow:loss = 4.4370956, step = 3300 (0.092 sec)\n",
      "INFO:tensorflow:global_step/sec: 1044.45\n",
      "INFO:tensorflow:loss = 16.853731, step = 3400 (0.097 sec)\n",
      "INFO:tensorflow:global_step/sec: 928.403\n",
      "INFO:tensorflow:loss = 30.97924, step = 3500 (0.105 sec)\n",
      "INFO:tensorflow:global_step/sec: 1012.79\n",
      "INFO:tensorflow:loss = 0.662129, step = 3600 (0.101 sec)\n",
      "INFO:tensorflow:global_step/sec: 1023.15\n",
      "INFO:tensorflow:loss = 7.018091, step = 3700 (0.097 sec)\n",
      "INFO:tensorflow:global_step/sec: 849.722\n",
      "INFO:tensorflow:loss = 12.444737, step = 3800 (0.119 sec)\n",
      "INFO:tensorflow:global_step/sec: 928.414\n",
      "INFO:tensorflow:loss = 20.004961, step = 3900 (0.108 sec)\n",
      "INFO:tensorflow:Calling checkpoint listeners before saving checkpoint 4000...\n",
      "INFO:tensorflow:Saving checkpoints for 4000 into C:\\Users\\KUSHAL~1\\AppData\\Local\\Temp\\tmpbetxdlj8\\model.ckpt.\n",
      "INFO:tensorflow:Calling checkpoint listeners after saving checkpoint 4000...\n",
      "INFO:tensorflow:Loss for final step: 0.7765283.\n"
     ]
    },
    {
     "data": {
      "text/plain": [
       "<tensorflow_estimator.python.estimator.canned.linear.LinearRegressorV2 at 0x1c704c32be0>"
      ]
     },
     "execution_count": 58,
     "metadata": {},
     "output_type": "execute_result"
    }
   ],
   "source": [
    "# Train the Linear regressor estimator\n",
    "linear_model.train(input_fn = input_func, steps = 2000)"
   ]
  },
  {
   "cell_type": "code",
   "execution_count": 59,
   "id": "59f6c7eb",
   "metadata": {},
   "outputs": [
    {
     "name": "stdout",
     "output_type": "stream",
     "text": [
      "INFO:tensorflow:Calling model_fn.\n",
      "WARNING:tensorflow:Layer linear/linear_model is casting an input tensor from dtype float64 to the layer's dtype of float32, which is new behavior in TensorFlow 2.  The layer has dtype float32 because its dtype defaults to floatx.\n",
      "\n",
      "If you intended to run this layer in float32, you can safely ignore this warning. If in doubt, this warning is likely only an issue if you are porting a TensorFlow 1.X model to TensorFlow 2.\n",
      "\n",
      "To change all layers to have dtype float64 by default, call `tf.keras.backend.set_floatx('float64')`. To change just this layer, pass dtype='float64' to the layer constructor. If you are the author of this layer, you can disable autocasting by passing autocast=False to the base Layer constructor.\n",
      "\n",
      "INFO:tensorflow:Done calling model_fn.\n",
      "INFO:tensorflow:Starting evaluation at 2022-02-10T12:54:22Z\n",
      "INFO:tensorflow:Graph was finalized.\n",
      "INFO:tensorflow:Restoring parameters from C:\\Users\\KUSHAL~1\\AppData\\Local\\Temp\\tmpbetxdlj8\\model.ckpt-4000\n",
      "INFO:tensorflow:Running local_init_op.\n",
      "INFO:tensorflow:Done running local_init_op.\n",
      "INFO:tensorflow:Inference Time : 0.29155s\n",
      "INFO:tensorflow:Finished evaluation at 2022-02-10-12:54:22\n",
      "INFO:tensorflow:Saving dict for global step 4000: average_loss = 37.33919, global_step = 4000, label/mean = 22.47829, loss = 37.33919, prediction/mean = 22.748758\n",
      "INFO:tensorflow:Saving 'checkpoint_path' summary for global step 4000: C:\\Users\\KUSHAL~1\\AppData\\Local\\Temp\\tmpbetxdlj8\\model.ckpt-4000\n"
     ]
    }
   ],
   "source": [
    "test_metrics = linear_model.evaluate(input_fn = eval_input_func, steps = 2000)"
   ]
  },
  {
   "cell_type": "code",
   "execution_count": 60,
   "id": "383078b6",
   "metadata": {},
   "outputs": [
    {
     "name": "stdout",
     "output_type": "stream",
     "text": [
      "INFO:tensorflow:Calling model_fn.\n",
      "WARNING:tensorflow:Layer linear/linear_model is casting an input tensor from dtype float64 to the layer's dtype of float32, which is new behavior in TensorFlow 2.  The layer has dtype float32 because its dtype defaults to floatx.\n",
      "\n",
      "If you intended to run this layer in float32, you can safely ignore this warning. If in doubt, this warning is likely only an issue if you are porting a TensorFlow 1.X model to TensorFlow 2.\n",
      "\n",
      "To change all layers to have dtype float64 by default, call `tf.keras.backend.set_floatx('float64')`. To change just this layer, pass dtype='float64' to the layer constructor. If you are the author of this layer, you can disable autocasting by passing autocast=False to the base Layer constructor.\n",
      "\n",
      "INFO:tensorflow:Done calling model_fn.\n",
      "INFO:tensorflow:Graph was finalized.\n",
      "INFO:tensorflow:Restoring parameters from C:\\Users\\KUSHAL~1\\AppData\\Local\\Temp\\tmpbetxdlj8\\model.ckpt-4000\n",
      "INFO:tensorflow:Running local_init_op.\n",
      "INFO:tensorflow:Done running local_init_op.\n"
     ]
    },
    {
     "data": {
      "text/plain": [
       "[{'predictions': array([40.68284], dtype=float32)},\n",
       " {'predictions': array([31.554699], dtype=float32)},\n",
       " {'predictions': array([28.544626], dtype=float32)},\n",
       " {'predictions': array([4.8447056], dtype=float32)},\n",
       " {'predictions': array([35.71012], dtype=float32)},\n",
       " {'predictions': array([2.7373486], dtype=float32)},\n",
       " {'predictions': array([27.648514], dtype=float32)},\n",
       " {'predictions': array([31.919151], dtype=float32)},\n",
       " {'predictions': array([28.238222], dtype=float32)},\n",
       " {'predictions': array([24.0307], dtype=float32)},\n",
       " {'predictions': array([34.662785], dtype=float32)},\n",
       " {'predictions': array([22.980503], dtype=float32)},\n",
       " {'predictions': array([24.163229], dtype=float32)},\n",
       " {'predictions': array([35.480255], dtype=float32)},\n",
       " {'predictions': array([29.161076], dtype=float32)},\n",
       " {'predictions': array([17.697596], dtype=float32)},\n",
       " {'predictions': array([-3.0982437], dtype=float32)},\n",
       " {'predictions': array([19.84588], dtype=float32)},\n",
       " {'predictions': array([14.70575], dtype=float32)},\n",
       " {'predictions': array([5.162443], dtype=float32)},\n",
       " {'predictions': array([1.7172527], dtype=float32)},\n",
       " {'predictions': array([19.282635], dtype=float32)},\n",
       " {'predictions': array([41.79033], dtype=float32)},\n",
       " {'predictions': array([25.750322], dtype=float32)},\n",
       " {'predictions': array([33.782417], dtype=float32)},\n",
       " {'predictions': array([11.057711], dtype=float32)},\n",
       " {'predictions': array([26.487164], dtype=float32)},\n",
       " {'predictions': array([24.722708], dtype=float32)},\n",
       " {'predictions': array([25.012962], dtype=float32)},\n",
       " {'predictions': array([24.009863], dtype=float32)},\n",
       " {'predictions': array([14.671072], dtype=float32)},\n",
       " {'predictions': array([6.502941], dtype=float32)},\n",
       " {'predictions': array([17.340473], dtype=float32)},\n",
       " {'predictions': array([24.861969], dtype=float32)},\n",
       " {'predictions': array([31.524187], dtype=float32)},\n",
       " {'predictions': array([18.539827], dtype=float32)},\n",
       " {'predictions': array([30.38241], dtype=float32)},\n",
       " {'predictions': array([7.6057415], dtype=float32)},\n",
       " {'predictions': array([45.781334], dtype=float32)},\n",
       " {'predictions': array([35.27147], dtype=float32)},\n",
       " {'predictions': array([20.780834], dtype=float32)},\n",
       " {'predictions': array([1.9128094], dtype=float32)},\n",
       " {'predictions': array([31.503508], dtype=float32)},\n",
       " {'predictions': array([12.927464], dtype=float32)},\n",
       " {'predictions': array([29.760406], dtype=float32)},\n",
       " {'predictions': array([33.52781], dtype=float32)},\n",
       " {'predictions': array([-12.5703335], dtype=float32)},\n",
       " {'predictions': array([18.889324], dtype=float32)},\n",
       " {'predictions': array([23.427433], dtype=float32)},\n",
       " {'predictions': array([12.868356], dtype=float32)},\n",
       " {'predictions': array([20.47202], dtype=float32)},\n",
       " {'predictions': array([21.46612], dtype=float32)},\n",
       " {'predictions': array([25.11831], dtype=float32)},\n",
       " {'predictions': array([13.348939], dtype=float32)},\n",
       " {'predictions': array([18.90815], dtype=float32)},\n",
       " {'predictions': array([26.757065], dtype=float32)},\n",
       " {'predictions': array([38.410683], dtype=float32)},\n",
       " {'predictions': array([16.781029], dtype=float32)},\n",
       " {'predictions': array([31.375046], dtype=float32)},\n",
       " {'predictions': array([23.588028], dtype=float32)},\n",
       " {'predictions': array([21.379004], dtype=float32)},\n",
       " {'predictions': array([27.905933], dtype=float32)},\n",
       " {'predictions': array([13.694697], dtype=float32)},\n",
       " {'predictions': array([34.315395], dtype=float32)},\n",
       " {'predictions': array([22.360561], dtype=float32)},\n",
       " {'predictions': array([9.874444], dtype=float32)},\n",
       " {'predictions': array([20.447178], dtype=float32)},\n",
       " {'predictions': array([27.489716], dtype=float32)},\n",
       " {'predictions': array([23.08008], dtype=float32)},\n",
       " {'predictions': array([22.518894], dtype=float32)},\n",
       " {'predictions': array([21.753193], dtype=float32)},\n",
       " {'predictions': array([27.672081], dtype=float32)},\n",
       " {'predictions': array([18.743612], dtype=float32)},\n",
       " {'predictions': array([18.39276], dtype=float32)},\n",
       " {'predictions': array([18.232033], dtype=float32)},\n",
       " {'predictions': array([28.781889], dtype=float32)},\n",
       " {'predictions': array([22.769718], dtype=float32)},\n",
       " {'predictions': array([16.797081], dtype=float32)},\n",
       " {'predictions': array([37.99254], dtype=float32)},\n",
       " {'predictions': array([18.653555], dtype=float32)},\n",
       " {'predictions': array([23.53869], dtype=float32)},\n",
       " {'predictions': array([42.747498], dtype=float32)},\n",
       " {'predictions': array([23.183786], dtype=float32)},\n",
       " {'predictions': array([14.803089], dtype=float32)},\n",
       " {'predictions': array([26.053549], dtype=float32)},\n",
       " {'predictions': array([18.27766], dtype=float32)},\n",
       " {'predictions': array([18.937462], dtype=float32)},\n",
       " {'predictions': array([8.954121], dtype=float32)},\n",
       " {'predictions': array([21.39661], dtype=float32)},\n",
       " {'predictions': array([20.055069], dtype=float32)},\n",
       " {'predictions': array([39.13403], dtype=float32)},\n",
       " {'predictions': array([17.884705], dtype=float32)},\n",
       " {'predictions': array([20.858372], dtype=float32)},\n",
       " {'predictions': array([20.24051], dtype=float32)},\n",
       " {'predictions': array([27.868437], dtype=float32)},\n",
       " {'predictions': array([30.808762], dtype=float32)},\n",
       " {'predictions': array([11.436356], dtype=float32)},\n",
       " {'predictions': array([25.3906], dtype=float32)},\n",
       " {'predictions': array([21.3908], dtype=float32)},\n",
       " {'predictions': array([14.150503], dtype=float32)},\n",
       " {'predictions': array([24.354729], dtype=float32)},\n",
       " {'predictions': array([23.908527], dtype=float32)},\n",
       " {'predictions': array([13.94873], dtype=float32)},\n",
       " {'predictions': array([45.338707], dtype=float32)},\n",
       " {'predictions': array([-6.1124725], dtype=float32)},\n",
       " {'predictions': array([21.871256], dtype=float32)},\n",
       " {'predictions': array([18.80135], dtype=float32)},\n",
       " {'predictions': array([22.099955], dtype=float32)},\n",
       " {'predictions': array([30.287018], dtype=float32)},\n",
       " {'predictions': array([17.989311], dtype=float32)},\n",
       " {'predictions': array([29.461702], dtype=float32)},\n",
       " {'predictions': array([26.010708], dtype=float32)},\n",
       " {'predictions': array([21.077915], dtype=float32)},\n",
       " {'predictions': array([35.772385], dtype=float32)},\n",
       " {'predictions': array([21.321442], dtype=float32)},\n",
       " {'predictions': array([14.099718], dtype=float32)},\n",
       " {'predictions': array([22.852186], dtype=float32)},\n",
       " {'predictions': array([19.490854], dtype=float32)},\n",
       " {'predictions': array([21.836994], dtype=float32)},\n",
       " {'predictions': array([17.556362], dtype=float32)},\n",
       " {'predictions': array([22.853525], dtype=float32)},\n",
       " {'predictions': array([36.971504], dtype=float32)},\n",
       " {'predictions': array([24.454565], dtype=float32)},\n",
       " {'predictions': array([21.61329], dtype=float32)},\n",
       " {'predictions': array([26.712202], dtype=float32)},\n",
       " {'predictions': array([26.508898], dtype=float32)},\n",
       " {'predictions': array([21.747162], dtype=float32)},\n",
       " {'predictions': array([23.533606], dtype=float32)},\n",
       " {'predictions': array([24.588623], dtype=float32)},\n",
       " {'predictions': array([43.87452], dtype=float32)},\n",
       " {'predictions': array([40.532417], dtype=float32)},\n",
       " {'predictions': array([28.758446], dtype=float32)},\n",
       " {'predictions': array([11.246144], dtype=float32)},\n",
       " {'predictions': array([15.42947], dtype=float32)},\n",
       " {'predictions': array([18.004719], dtype=float32)},\n",
       " {'predictions': array([22.946342], dtype=float32)},\n",
       " {'predictions': array([15.3929615], dtype=float32)},\n",
       " {'predictions': array([2.4639397], dtype=float32)},\n",
       " {'predictions': array([25.941534], dtype=float32)},\n",
       " {'predictions': array([33.48319], dtype=float32)},\n",
       " {'predictions': array([23.589254], dtype=float32)},\n",
       " {'predictions': array([19.625973], dtype=float32)},\n",
       " {'predictions': array([16.279964], dtype=float32)},\n",
       " {'predictions': array([24.195272], dtype=float32)},\n",
       " {'predictions': array([38.044937], dtype=float32)},\n",
       " {'predictions': array([23.286442], dtype=float32)},\n",
       " {'predictions': array([32.59817], dtype=float32)},\n",
       " {'predictions': array([19.24921], dtype=float32)},\n",
       " {'predictions': array([22.644403], dtype=float32)},\n",
       " {'predictions': array([31.671337], dtype=float32)},\n",
       " {'predictions': array([12.583172], dtype=float32)},\n",
       " {'predictions': array([33.033756], dtype=float32)}]"
      ]
     },
     "execution_count": 60,
     "metadata": {},
     "output_type": "execute_result"
    }
   ],
   "source": [
    "# Lets calculate the predicted value\n",
    "list(linear_model.predict(input_fn = eval_input_func))"
   ]
  },
  {
   "cell_type": "code",
   "execution_count": 61,
   "id": "50d6cf69",
   "metadata": {},
   "outputs": [],
   "source": [
    "# Predictions\n",
    "predictions = linear_model.predict(input_fn=eval_input_func)"
   ]
  },
  {
   "cell_type": "code",
   "execution_count": 62,
   "id": "6c8161a0",
   "metadata": {},
   "outputs": [
    {
     "name": "stdout",
     "output_type": "stream",
     "text": [
      "INFO:tensorflow:Calling model_fn.\n",
      "WARNING:tensorflow:Layer linear/linear_model is casting an input tensor from dtype float64 to the layer's dtype of float32, which is new behavior in TensorFlow 2.  The layer has dtype float32 because its dtype defaults to floatx.\n",
      "\n",
      "If you intended to run this layer in float32, you can safely ignore this warning. If in doubt, this warning is likely only an issue if you are porting a TensorFlow 1.X model to TensorFlow 2.\n",
      "\n",
      "To change all layers to have dtype float64 by default, call `tf.keras.backend.set_floatx('float64')`. To change just this layer, pass dtype='float64' to the layer constructor. If you are the author of this layer, you can disable autocasting by passing autocast=False to the base Layer constructor.\n",
      "\n",
      "INFO:tensorflow:Done calling model_fn.\n",
      "INFO:tensorflow:Graph was finalized.\n",
      "INFO:tensorflow:Restoring parameters from C:\\Users\\KUSHAL~1\\AppData\\Local\\Temp\\tmpbetxdlj8\\model.ckpt-4000\n",
      "INFO:tensorflow:Running local_init_op.\n",
      "INFO:tensorflow:Done running local_init_op.\n"
     ]
    }
   ],
   "source": [
    "pred = list(predictions)"
   ]
  },
  {
   "cell_type": "code",
   "execution_count": 63,
   "id": "8cec5a57",
   "metadata": {},
   "outputs": [
    {
     "name": "stdout",
     "output_type": "stream",
     "text": [
      "INFO:tensorflow:Calling model_fn.\n",
      "WARNING:tensorflow:Layer linear/linear_model is casting an input tensor from dtype float64 to the layer's dtype of float32, which is new behavior in TensorFlow 2.  The layer has dtype float32 because its dtype defaults to floatx.\n",
      "\n",
      "If you intended to run this layer in float32, you can safely ignore this warning. If in doubt, this warning is likely only an issue if you are porting a TensorFlow 1.X model to TensorFlow 2.\n",
      "\n",
      "To change all layers to have dtype float64 by default, call `tf.keras.backend.set_floatx('float64')`. To change just this layer, pass dtype='float64' to the layer constructor. If you are the author of this layer, you can disable autocasting by passing autocast=False to the base Layer constructor.\n",
      "\n",
      "INFO:tensorflow:Done calling model_fn.\n",
      "INFO:tensorflow:Graph was finalized.\n",
      "INFO:tensorflow:Restoring parameters from C:\\Users\\KUSHAL~1\\AppData\\Local\\Temp\\tmpbetxdlj8\\model.ckpt-4000\n",
      "INFO:tensorflow:Running local_init_op.\n",
      "INFO:tensorflow:Done running local_init_op.\n"
     ]
    }
   ],
   "source": [
    "# Plot Predicted Values\n",
    "predicted_vals = []\n",
    "\n",
    "for pred in linear_model.predict(input_fn=eval_input_func):\n",
    "    predicted_vals.append(pred['predictions'])"
   ]
  },
  {
   "cell_type": "code",
   "execution_count": 64,
   "id": "feedfbad",
   "metadata": {},
   "outputs": [
    {
     "data": {
      "text/plain": [
       "(152, 152)"
      ]
     },
     "execution_count": 64,
     "metadata": {},
     "output_type": "execute_result"
    }
   ],
   "source": [
    "len(predicted_vals), len(y_test)"
   ]
  },
  {
   "cell_type": "code",
   "execution_count": 65,
   "id": "5bf766df",
   "metadata": {},
   "outputs": [
    {
     "name": "stdout",
     "output_type": "stream",
     "text": [
      "[array([40.68284], dtype=float32), array([31.554699], dtype=float32), array([28.544626], dtype=float32), array([4.8447056], dtype=float32), array([35.71012], dtype=float32), array([2.7373486], dtype=float32), array([27.648514], dtype=float32), array([31.919151], dtype=float32), array([28.238222], dtype=float32), array([24.0307], dtype=float32), array([34.662785], dtype=float32), array([22.980503], dtype=float32), array([24.163229], dtype=float32), array([35.480255], dtype=float32), array([29.161076], dtype=float32), array([17.697596], dtype=float32), array([-3.0982437], dtype=float32), array([19.84588], dtype=float32), array([14.70575], dtype=float32), array([5.162443], dtype=float32), array([1.7172527], dtype=float32), array([19.282635], dtype=float32), array([41.79033], dtype=float32), array([25.750322], dtype=float32), array([33.782417], dtype=float32), array([11.057711], dtype=float32), array([26.487164], dtype=float32), array([24.722708], dtype=float32), array([25.012962], dtype=float32), array([24.009863], dtype=float32), array([14.671072], dtype=float32), array([6.502941], dtype=float32), array([17.340473], dtype=float32), array([24.861969], dtype=float32), array([31.524187], dtype=float32), array([18.539827], dtype=float32), array([30.38241], dtype=float32), array([7.6057415], dtype=float32), array([45.781334], dtype=float32), array([35.27147], dtype=float32), array([20.780834], dtype=float32), array([1.9128094], dtype=float32), array([31.503508], dtype=float32), array([12.927464], dtype=float32), array([29.760406], dtype=float32), array([33.52781], dtype=float32), array([-12.5703335], dtype=float32), array([18.889324], dtype=float32), array([23.427433], dtype=float32), array([12.868356], dtype=float32), array([20.47202], dtype=float32), array([21.46612], dtype=float32), array([25.11831], dtype=float32), array([13.348939], dtype=float32), array([18.90815], dtype=float32), array([26.757065], dtype=float32), array([38.410683], dtype=float32), array([16.781029], dtype=float32), array([31.375046], dtype=float32), array([23.588028], dtype=float32), array([21.379004], dtype=float32), array([27.905933], dtype=float32), array([13.694697], dtype=float32), array([34.315395], dtype=float32), array([22.360561], dtype=float32), array([9.874444], dtype=float32), array([20.447178], dtype=float32), array([27.489716], dtype=float32), array([23.08008], dtype=float32), array([22.518894], dtype=float32), array([21.753193], dtype=float32), array([27.672081], dtype=float32), array([18.743612], dtype=float32), array([18.39276], dtype=float32), array([18.232033], dtype=float32), array([28.781889], dtype=float32), array([22.769718], dtype=float32), array([16.797081], dtype=float32), array([37.99254], dtype=float32), array([18.653555], dtype=float32), array([23.53869], dtype=float32), array([42.747498], dtype=float32), array([23.183786], dtype=float32), array([14.803089], dtype=float32), array([26.053549], dtype=float32), array([18.27766], dtype=float32), array([18.937462], dtype=float32), array([8.954121], dtype=float32), array([21.39661], dtype=float32), array([20.055069], dtype=float32), array([39.13403], dtype=float32), array([17.884705], dtype=float32), array([20.858372], dtype=float32), array([20.24051], dtype=float32), array([27.868437], dtype=float32), array([30.808762], dtype=float32), array([11.436356], dtype=float32), array([25.3906], dtype=float32), array([21.3908], dtype=float32), array([14.150503], dtype=float32), array([24.354729], dtype=float32), array([23.908527], dtype=float32), array([13.94873], dtype=float32), array([45.338707], dtype=float32), array([-6.1124725], dtype=float32), array([21.871256], dtype=float32), array([18.80135], dtype=float32), array([22.099955], dtype=float32), array([30.287018], dtype=float32), array([17.989311], dtype=float32), array([29.461702], dtype=float32), array([26.010708], dtype=float32), array([21.077915], dtype=float32), array([35.772385], dtype=float32), array([21.321442], dtype=float32), array([14.099718], dtype=float32), array([22.852186], dtype=float32), array([19.490854], dtype=float32), array([21.836994], dtype=float32), array([17.556362], dtype=float32), array([22.853525], dtype=float32), array([36.971504], dtype=float32), array([24.454565], dtype=float32), array([21.61329], dtype=float32), array([26.712202], dtype=float32), array([26.508898], dtype=float32), array([21.747162], dtype=float32), array([23.533606], dtype=float32), array([24.588623], dtype=float32), array([43.87452], dtype=float32), array([40.532417], dtype=float32), array([28.758446], dtype=float32), array([11.246144], dtype=float32), array([15.42947], dtype=float32), array([18.004719], dtype=float32), array([22.946342], dtype=float32), array([15.3929615], dtype=float32), array([2.4639397], dtype=float32), array([25.941534], dtype=float32), array([33.48319], dtype=float32), array([23.589254], dtype=float32), array([19.625973], dtype=float32), array([16.279964], dtype=float32), array([24.195272], dtype=float32), array([38.044937], dtype=float32), array([23.286442], dtype=float32), array([32.59817], dtype=float32), array([19.24921], dtype=float32), array([22.644403], dtype=float32), array([31.671337], dtype=float32), array([12.583172], dtype=float32), array([33.033756], dtype=float32)]\n"
     ]
    }
   ],
   "source": [
    "print(predicted_vals)"
   ]
  },
  {
   "cell_type": "markdown",
   "id": "5a568a2b",
   "metadata": {},
   "source": [
    "# Calculate MeanSquared Error"
   ]
  },
  {
   "cell_type": "code",
   "execution_count": 66,
   "id": "cb88d4b3",
   "metadata": {},
   "outputs": [
    {
     "name": "stdout",
     "output_type": "stream",
     "text": [
      "Mean Squared Error [Linear Regressor] :  37.339186560203\n"
     ]
    }
   ],
   "source": [
    "from sklearn.metrics import mean_squared_error\n",
    "\n",
    "mse = mean_squared_error(predicted_vals, y_test)\n",
    "\n",
    "print(\"Mean Squared Error [Linear Regressor] : \", mse)"
   ]
  },
  {
   "cell_type": "code",
   "execution_count": null,
   "id": "b65cc261",
   "metadata": {},
   "outputs": [],
   "source": []
  }
 ],
 "metadata": {
  "kernelspec": {
   "display_name": "Python 3.10 (tensorflow)",
   "language": "python",
   "name": "tensorflow"
  },
  "language_info": {
   "codemirror_mode": {
    "name": "ipython",
    "version": 3
   },
   "file_extension": ".py",
   "mimetype": "text/x-python",
   "name": "python",
   "nbconvert_exporter": "python",
   "pygments_lexer": "ipython3",
   "version": "3.8.12"
  }
 },
 "nbformat": 4,
 "nbformat_minor": 5
}
